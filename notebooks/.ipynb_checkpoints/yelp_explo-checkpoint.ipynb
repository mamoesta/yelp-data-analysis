{
 "cells": [
  {
   "cell_type": "code",
   "execution_count": 88,
   "metadata": {
    "scrolled": true
   },
   "outputs": [
    {
     "data": {
      "text/plain": [
       "'\\nPotential Ideas:\\n\\n*What attributes best predict stars for restaurants?\\n*Recommendation Engine - use attributes/review sentiment/location to recommend best places based on review?\\n*Something with bitcoin adoption?\\n*Image classification/ recommendation enginge - based off of saying Y/N to X amount of images \\n(and maybe some other metadata/questions), provide top recommendations for user\\n'"
      ]
     },
     "execution_count": 88,
     "metadata": {},
     "output_type": "execute_result"
    }
   ],
   "source": [
    "'''\n",
    "Potential Ideas:\n",
    "\n",
    "*What attributes best predict stars for restaurants?\n",
    "*Recommendation Engine - use attributes/review sentiment/location to recommend best places based on review?\n",
    "*GLMNET with words mentioned in a given review\n",
    "*Could do some serious ML stuff here\n",
    "'''\n",
    "## TO DO: See if there are any juicy interaction terms from multinomial regression"
   ]
  },
  {
   "cell_type": "code",
   "execution_count": 3,
   "metadata": {},
   "outputs": [
    {
     "data": {
      "text/html": [
       "<style>.container { width:100% !important; }</style>"
      ],
      "text/plain": [
       "<IPython.core.display.HTML object>"
      ]
     },
     "metadata": {},
     "output_type": "display_data"
    }
   ],
   "source": [
    "# Jupyter setup to expand cell display to 100% width on your screen (optional), and print more columns and ignore WARNINGS\n",
    "from IPython.core.display import display, HTML\n",
    "display(HTML(\"<style>.container { width:100% !important; }</style>\"))\n",
    "## Settings\n",
    "pd.options.display.max_columns = 50\n",
    "warnings.filterwarnings('ignore')"
   ]
  },
  {
   "cell_type": "code",
   "execution_count": 2,
   "metadata": {
    "collapsed": true
   },
   "outputs": [],
   "source": [
    "## Imports\n",
    "import pandas as pd\n",
    "import numpy as np\n",
    "import matplotlib.pyplot as plt\n",
    "from matplotlib import figure\n",
    "import seaborn as sns\n",
    "import os\n",
    "import warnings"
   ]
  },
  {
   "cell_type": "code",
   "execution_count": 4,
   "metadata": {},
   "outputs": [
    {
     "name": "stdout",
     "output_type": "stream",
     "text": [
      "businesses done\n"
     ]
    }
   ],
   "source": [
    "## Look at businesses first\n",
    "path = os.path.expanduser('/Users/mmoesta/Documents/DA_Training/yelp_data_analysis/dataset/csv/')\n",
    "business_df = pd.read_csv(path + 'business.csv')\n",
    "print('businesses done')\n",
    "##Setting indices\n",
    "business_df.set_index('business_id',inplace = True)"
   ]
  },
  {
   "cell_type": "code",
   "execution_count": 5,
   "metadata": {
    "collapsed": true
   },
   "outputs": [],
   "source": [
    "## Looking only @ restaurants\n",
    "restaurants = business_df['categories'].str.contains('Restaurants')\n",
    "food = business_df['categories'].str.contains('Food')\n",
    "restfood_df=business_df[restaurants & food]"
   ]
  },
  {
   "cell_type": "code",
   "execution_count": 6,
   "metadata": {
    "collapsed": true
   },
   "outputs": [],
   "source": [
    "## Manual categories to remove\n",
    "categoriesToRemove = ['Grocery','Drugstores','Convenience Stores','Beauty & Spas','Photography Stores & Services',\n",
    "                      'Cosmetics & Beauty Supply','Discount Store','Fashion','Department Stores','Gas Stations',\n",
    "                      'Automotive','Music & Video','Event Planning & Services','Mobile Phones','Health & Medical',\n",
    "                      'Weight Loss Centers','Home & Garden','Kitchen & Bath','Jewelry',\"Children's Clothing\",\n",
    "                      'Accessories','Home Decor','Bus Tours','Auto Glass Services','Auto Detailing',\n",
    "                      'Oil Change Stations', 'Auto Repair','Body Shops','Car Window Tinting','Car Wash',\n",
    "                      'Gluten-Free','Fitness & Instruction','Nurseries & Gardening','Wedding Planning',\n",
    "                      'Embroidery & Crochet','Dance Schools','Performing Arts',\n",
    "                      'Wholesale Stores','Tobacco Shops','Nutritionists','Hobby Shops','Pet Services',\n",
    "                      'Electronics','Plumbing','Gyms','Yoga','Walking Tours','Toy Stores','Pet Stores',\n",
    "                      'Pet Groomers','Vape Shops','Head Shops',\n",
    "                      'Souvenir Shops','Pharmacy','Appliances & Repair','Wholesalers','Party Equipment Rentals',\n",
    "                      'Tattoo','Funeral Services & Cemeteries','Sporting Goods','Dog Walkers',\n",
    "                      'Pet Boarding/Pet Sitting','Scavenger Hunts','Contractors','Trainers', \n",
    "                      'Customized Merchandise', 'Dry Cleaning & Laundry', 'Art Galleries'\n",
    "                      'Tax Law', 'Bankruptcy Law', 'Tax Services', 'Estate Planning Law', \n",
    "                      'Business Consulting', 'Lawyers', 'Pet Adoption', 'Escape Games', \n",
    "                      'Animal Shelters', 'Commercial Real Estate', 'Real Estate Agents', \n",
    "                      'Real Estate Services', 'Home Inspectors']\n",
    "\n",
    "'''I think that this removes an entire row if one of the categories in the row contains a value in categoriesToRemove\n",
    "will have to revisit\n",
    "''' \n",
    "restfood_df = restfood_df[-restfood_df['categories'].isin(categoriesToRemove)]"
   ]
  },
  {
   "cell_type": "code",
   "execution_count": 7,
   "metadata": {
    "collapsed": true
   },
   "outputs": [],
   "source": [
    "## Function to expand attributes and categories columns into dummy columns.  Credit - nick-morgan\n",
    "#create_attributes\n",
    "\n",
    "#takes a dataframe as an input, as well as a list of columns that are dictionaries\n",
    "#takes each column that is a dictionary, and expands it into a series of dummy columns\n",
    "\n",
    "def create_attributes(df, dictList):\n",
    "    \n",
    "    for dictionaryColumn in dictList:\n",
    "        \n",
    "        #the attributes column is a string of dictionaries, so one extra step is taken to convert\n",
    "        if dictionaryColumn == 'attributes':\n",
    "            expandedColumns = df[dictionaryColumn].map(eval).apply(pd.Series)\n",
    "        else:\n",
    "            expandedColumns = df[dictionaryColumn].apply(pd.Series)\n",
    "        \n",
    "        df = pd.concat([df.drop(dictionaryColumn,axis=1), \n",
    "                   expandedColumns]\n",
    "                  ,axis=1)\n",
    "        \n",
    "        #df.fillna(value='{}',inplace=True)\n",
    "        if df.index.name != 'business_id':\n",
    "            df.set_index('business_id', inplace=True)\n",
    "    return df\n",
    "\n",
    "## Function to expand categories.  Credit - nick-morgan\n",
    "def expand_categories(df, cat_var, key):\n",
    "    all_cats = df[cat_var].str.cat(sep=', ')\n",
    "    all_cats = all_cats.replace('[', '')\n",
    "    all_cats = all_cats.replace(']', '')\n",
    "    all_cats = all_cats.replace(\"\\'\",\"\")\n",
    "    all_cats = all_cats.replace('\"','')\n",
    "    all_cats_list = all_cats.split(', ')\n",
    "    unique_cats = list(set(all_cats_list))\n",
    "    unique_cats.remove('Restaurants')\n",
    "    unique_cats.remove('Food')\n",
    "    df.reset_index(inplace=True)\n",
    "    df_cats = pd.DataFrame(index=df[key], columns=unique_cats, data=False)\n",
    "    df_out = df.merge(df_cats, how='left', left_on=key, right_index=True)\n",
    "    for cat in unique_cats:\n",
    "        df_out[cat] = df_out[cat_var].str.contains(cat)\n",
    "    if df.index.name != 'business_id':\n",
    "        df_out.set_index('business_id', inplace=True)\n",
    "    return df_out "
   ]
  },
  {
   "cell_type": "code",
   "execution_count": 8,
   "metadata": {
    "collapsed": true
   },
   "outputs": [],
   "source": [
    "attributes_df= create_attributes(restfood_df, ['attributes'])"
   ]
  },
  {
   "cell_type": "code",
   "execution_count": 9,
   "metadata": {
    "collapsed": true
   },
   "outputs": [],
   "source": [
    "categories_df = expand_categories(restfood_df, 'categories', 'business_id')"
   ]
  },
  {
   "cell_type": "code",
   "execution_count": 10,
   "metadata": {},
   "outputs": [],
   "source": [
    "cols_to_use = categories_df.columns.difference(attributes_df.columns)\n",
    "result_df = attributes_df.merge(categories_df[cols_to_use], how = 'inner', left_index =True, right_index = True, copy = False)"
   ]
  },
  {
   "cell_type": "code",
   "execution_count": 11,
   "metadata": {},
   "outputs": [],
   "source": [
    "result_df.drop(['categories','attributes','address','city','name','neighborhood','postal_code'],\n",
    "                                  axis=1,inplace=True)\n",
    "att_to_expand = []\n",
    "for i in range(len(result_df.columns.values)):\n",
    "    if result_df[result_df.columns.values[i]].dtype == 'O':\n",
    "            att_to_expand.append(result_df.columns.values[i])         \n",
    "#print(att_to_expand)"
   ]
  },
  {
   "cell_type": "code",
   "execution_count": 12,
   "metadata": {
    "collapsed": true
   },
   "outputs": [],
   "source": [
    "expanded_rest_df = create_attributes(result_df,att_to_expand)"
   ]
  },
  {
   "cell_type": "code",
   "execution_count": 44,
   "metadata": {},
   "outputs": [
    {
     "data": {
      "text/plain": [
       "\"\\natt_to_expand = []\\nfor i in range(len(expanded_rest_df.columns.values)):\\n    if expanded_rest_df[expanded_rest_df.columns.values[i]].dtype== 'O':\\n        att_to_expand.append(i)\\nexpanded_rest_df = create_attributes(expanded_rest_df,att_to_expand)\\n\""
      ]
     },
     "execution_count": 44,
     "metadata": {},
     "output_type": "execute_result"
    }
   ],
   "source": [
    "'''\n",
    "## Some columns were nested objects, have to expand again\n",
    "att_to_expand = []\n",
    "for i in range(len(expanded_rest_df.columns.values)):\n",
    "    if expanded_rest_df[expanded_rest_df.columns.values[i]].dtype== 'O':\n",
    "        att_to_expand.append(i)\n",
    "expanded_rest_df = create_attributes(expanded_rest_df,att_to_expand)\n",
    "'''"
   ]
  },
  {
   "cell_type": "code",
   "execution_count": 13,
   "metadata": {},
   "outputs": [
    {
     "data": {
      "text/plain": [
       "1    12867\n",
       "Name: is_open, dtype: int64"
      ]
     },
     "execution_count": 13,
     "metadata": {},
     "output_type": "execute_result"
    }
   ],
   "source": [
    "## Getting rid of all restaurants that are no longer open\n",
    "expanded_rest_df= expanded_rest_df[expanded_rest_df['is_open'] != 0]\n",
    "expanded_rest_df['is_open'].value_counts()"
   ]
  },
  {
   "cell_type": "code",
   "execution_count": 14,
   "metadata": {
    "collapsed": true,
    "scrolled": false
   },
   "outputs": [],
   "source": [
    "## Fill NA values with zeroes\n",
    "expanded_rest_df.fillna(value = 0, inplace =True)"
   ]
  },
  {
   "cell_type": "code",
   "execution_count": 15,
   "metadata": {
    "collapsed": true
   },
   "outputs": [],
   "source": [
    "## Drop any unnamed columns:  This means they didn't have a name when columns were expanded, would not be useful to us analysis\n",
    "unnamed_cols = [0] * 40\n",
    "expanded_rest_df.drop(labels = unnamed_cols,axis=1,inplace=True)"
   ]
  },
  {
   "cell_type": "code",
   "execution_count": 16,
   "metadata": {
    "collapsed": true
   },
   "outputs": [],
   "source": [
    "## Transforming Dataframe to arrays for sklearn stuff\n",
    "y = expanded_rest_df['stars']\n",
    "X = expanded_rest_df.drop(labels=['stars','Unnamed: 0', 'is_open','latitude','longitude','review_count'], axis=1)"
   ]
  },
  {
   "cell_type": "code",
   "execution_count": 17,
   "metadata": {
    "collapsed": true
   },
   "outputs": [],
   "source": [
    "## We can use PCA to determine problem complexity, maybe reduce dimensionality.\n",
    "from sklearn.decomposition import PCA"
   ]
  },
  {
   "cell_type": "code",
   "execution_count": 18,
   "metadata": {},
   "outputs": [
    {
     "name": "stdout",
     "output_type": "stream",
     "text": [
      "Variance explained by first 20 components:  [ 0.13453425  0.08982583  0.06336562  0.04400319  0.03762024  0.03580554\n",
      "  0.03384686  0.02448971  0.02333514  0.02014179  0.01917077  0.01755161\n",
      "  0.01664156  0.01632004  0.01537028  0.01507873  0.014052    0.01315465\n",
      "  0.0127286   0.01246621]\n",
      "Total  % variance explained by first 20 components:  0.65950263603\n"
     ]
    }
   ],
   "source": [
    "pca = PCA()\n",
    "pca.fit(X,y)\n",
    "print('Variance explained by first 20 components:  ' + str(pca.explained_variance_ratio_[:20]))\n",
    "print('Total  % variance explained by first 20 components:  ' + str(sum(pca.explained_variance_ratio_[:20])))"
   ]
  },
  {
   "cell_type": "code",
   "execution_count": 19,
   "metadata": {
    "collapsed": true
   },
   "outputs": [],
   "source": [
    "## random forest, might be funky with so many dimensions, we will have to see.\n",
    "from sklearn.ensemble import RandomForestClassifier\n",
    "from sklearn.model_selection import train_test_split\n",
    "from sklearn import preprocessing\n",
    "from sklearn import utils"
   ]
  },
  {
   "cell_type": "code",
   "execution_count": 20,
   "metadata": {
    "collapsed": true
   },
   "outputs": [],
   "source": [
    "lab_enc = preprocessing.LabelEncoder()\n",
    "y_encoded = lab_enc.fit_transform(y)"
   ]
  },
  {
   "cell_type": "code",
   "execution_count": 21,
   "metadata": {
    "collapsed": true
   },
   "outputs": [],
   "source": [
    "X_mat = X.as_matrix()"
   ]
  },
  {
   "cell_type": "code",
   "execution_count": 22,
   "metadata": {
    "collapsed": true,
    "scrolled": false
   },
   "outputs": [],
   "source": [
    "X_train,X_test,y_train,y_test = train_test_split(X_mat,y_encoded, test_size=0.3)"
   ]
  },
  {
   "cell_type": "code",
   "execution_count": 63,
   "metadata": {
    "collapsed": true
   },
   "outputs": [],
   "source": [
    "clf = RandomForestClassifier()"
   ]
  },
  {
   "cell_type": "code",
   "execution_count": 64,
   "metadata": {},
   "outputs": [
    {
     "data": {
      "text/plain": [
       "RandomForestClassifier(bootstrap=True, class_weight=None, criterion='gini',\n",
       "            max_depth=None, max_features='auto', max_leaf_nodes=None,\n",
       "            min_impurity_decrease=0.0, min_impurity_split=None,\n",
       "            min_samples_leaf=1, min_samples_split=2,\n",
       "            min_weight_fraction_leaf=0.0, n_estimators=10, n_jobs=1,\n",
       "            oob_score=False, random_state=None, verbose=0,\n",
       "            warm_start=False)"
      ]
     },
     "execution_count": 64,
     "metadata": {},
     "output_type": "execute_result"
    }
   ],
   "source": [
    "clf.fit(X_train,y_train)"
   ]
  },
  {
   "cell_type": "code",
   "execution_count": 65,
   "metadata": {},
   "outputs": [
    {
     "data": {
      "text/plain": [
       "0.74805685098823005"
      ]
     },
     "execution_count": 65,
     "metadata": {},
     "output_type": "execute_result"
    }
   ],
   "source": [
    "## Wow, looks pretty good!\n",
    "clf.score(X_train,y_train)"
   ]
  },
  {
   "cell_type": "code",
   "execution_count": 66,
   "metadata": {},
   "outputs": [
    {
     "data": {
      "text/plain": [
       "0.24708624708624707"
      ]
     },
     "execution_count": 66,
     "metadata": {},
     "output_type": "execute_result"
    }
   ],
   "source": [
    "## Nevermind, some serious overfitting going on here.  Model is detecting patterns that don't exist in training data.\n",
    "clf.score(X_test,y_test)"
   ]
  },
  {
   "cell_type": "code",
   "execution_count": 34,
   "metadata": {},
   "outputs": [
    {
     "name": "stdout",
     "output_type": "stream",
     "text": [
      "The most important features are:  ['RestaurantsPriceRange2' 'lot' 'Fast Food' 'Sandwiches' 'casual' 'lunch'\n",
      " 'Breakfast & Brunch' 'street' 'breakfast' 'dinner' 'Desserts' 'dessert'\n",
      " 'brunch' 'Burgers' 'Salad' 'Bakeries']\n"
     ]
    },
    {
     "data": {
      "image/png": "[encoded data removed]",
      "text/plain": [
       "<matplotlib.figure.Figure at 0x1a136299b0>"
      ]
     },
     "metadata": {},
     "output_type": "display_data"
    }
   ],
   "source": [
    "## Okay, so we won't use random forest here, but maybe we can look @ feature importances for some clues\n",
    "feat_index = list(np.where(clf.feature_importances_ > .015)[0])\n",
    "feat_vals = clf.feature_importances_[feat_index]\n",
    "feat_names = X.columns.values[feat_index]\n",
    "clf_df = pd.DataFrame({\n",
    "    'feat_names': feat_names,\n",
    "    'feat_index':feat_index,\n",
    "    'feat_vals':feat_vals\n",
    "})\n",
    "clf_df.sort_values(by=\"feat_vals\",ascending=False,inplace=True)\n",
    "print('The most important features are:  ' + str(clf_df['feat_names'].values))\n",
    "clf_df.set_index('feat_names',inplace=True)\n",
    "class_graph = (clf_df['feat_vals']\n",
    " .plot.barh()\n",
    " .set_title('Feature Importances')\n",
    ")\n",
    "plt.show()"
   ]
  },
  {
   "cell_type": "code",
   "execution_count": 29,
   "metadata": {
    "collapsed": true
   },
   "outputs": [],
   "source": [
    "## Maybe if we try the random forest regressor...\n",
    "from sklearn.ensemble import RandomForestRegressor"
   ]
  },
  {
   "cell_type": "code",
   "execution_count": 110,
   "metadata": {},
   "outputs": [
    {
     "data": {
      "text/plain": [
       "RandomForestRegressor(bootstrap=True, criterion='mse', max_depth=None,\n",
       "           max_features='auto', max_leaf_nodes=None,\n",
       "           min_impurity_decrease=0.0, min_impurity_split=None,\n",
       "           min_samples_leaf=1, min_samples_split=2,\n",
       "           min_weight_fraction_leaf=0.0, n_estimators=10, n_jobs=1,\n",
       "           oob_score=False, random_state=None, verbose=0, warm_start=False)"
      ]
     },
     "execution_count": 110,
     "metadata": {},
     "output_type": "execute_result"
    }
   ],
   "source": [
    "regr = RandomForestRegressor()\n",
    "regr.fit(X_train,y_train)"
   ]
  },
  {
   "cell_type": "code",
   "execution_count": 111,
   "metadata": {},
   "outputs": [
    {
     "name": "stdout",
     "output_type": "stream",
     "text": [
      "Score of regressor on training:  0.683660699682\n",
      "Score of regressor on test:  0.279561531482\n"
     ]
    }
   ],
   "source": [
    "print('Score of regressor on training:  ' + str(regr.score(X_train,y_train)))\n",
    "## Still pretty bad\n",
    "print('Score of regressor on test:  ' + str(regr.score(X_test,y_test)))"
   ]
  },
  {
   "cell_type": "code",
   "execution_count": 33,
   "metadata": {},
   "outputs": [
    {
     "name": "stdout",
     "output_type": "stream",
     "text": [
      "The most important features are:  ['Fast Food' 'lunch' 'RestaurantsPriceRange2' 'Burgers' 'lot' 'casual'\n",
      " 'Sandwiches' 'street']\n"
     ]
    },
    {
     "data": {
      "image/png": "[encoded data removed]",
      "text/plain": [
       "<matplotlib.figure.Figure at 0x1a113da828>"
      ]
     },
     "metadata": {},
     "output_type": "display_data"
    },
    {
     "name": "stdout",
     "output_type": "stream",
     "text": [
      "The most important features are:  ['RestaurantsPriceRange2' 'Burgers' 'Fast Food' 'Sandwiches' 'casual' 'lot'\n",
      " 'street' 'lunch']\n"
     ]
    }
   ],
   "source": [
    "# Let's look at feature importances for regressor\n",
    "r_feat_index = list(np.where(regr.feature_importances_ > .015)[0])\n",
    "r_feat_vals = regr.feature_importances_[r_feat_index]\n",
    "r_feat_names = X.columns.values[r_feat_index]\n",
    "regr_df = pd.DataFrame({\n",
    "    'feat_names': r_feat_names,\n",
    "    'feat_index': r_feat_index,\n",
    "    'feat_vals': r_feat_vals\n",
    "})\n",
    "regr_df.sort_values(by=\"feat_vals\",ascending=False,inplace=True)\n",
    "print('The most important features are:  ' + str(regr_df['feat_names'].values))\n",
    "regr_df.set_index('feat_names',inplace=True)\n",
    "class_graph = (regr_df['feat_vals']\n",
    " .plot.barh()\n",
    " .set_title('Feature Importances')\n",
    ")\n",
    "plt.show()\n",
    "print('The most important features are:  ' + str(r_feat_names))"
   ]
  },
  {
   "cell_type": "code",
   "execution_count": 35,
   "metadata": {
    "collapsed": true
   },
   "outputs": [],
   "source": [
    "corr_feats = list(clf_df.index.values)\n",
    "corr_feats.append('stars')\n",
    "corr_df = expanded_rest_df[corr_feats]"
   ]
  },
  {
   "cell_type": "code",
   "execution_count": 36,
   "metadata": {},
   "outputs": [
    {
     "data": {
      "image/png": "[encoded data removed]",
      "text/plain": [
       "<matplotlib.figure.Figure at 0x1a135fa550>"
      ]
     },
     "metadata": {},
     "output_type": "display_data"
    }
   ],
   "source": [
    "'''\n",
    "Visual representation of correlations via correlation table.  Helps us see what is good @ predicting 'stars', as well as could give indication to colinearity.\n",
    "We will look at eigenvalues to get a better idea.\n",
    "'''\n",
    "\n",
    "sns.set(style=\"white\")\n",
    "# Compute the correlation matrix\n",
    "hist_corr = corr_df\n",
    "corr = hist_corr.corr()\n",
    "\n",
    "# Generate a mask for the upper triangle\n",
    "mask = np.zeros_like(corr, dtype=np.bool)\n",
    "mask[np.triu_indices_from(mask)] = True\n",
    "\n",
    "# Set up the matplotlib figure\n",
    "f, ax = plt.subplots(figsize=(15, 11))\n",
    "\n",
    "# Generate a custom diverging colormap\n",
    "cmap = sns.diverging_palette(10, 220, as_cmap=True)\n",
    "\n",
    "# Draw the heatmap with the mask and correct aspect ratio\n",
    "sns.heatmap(corr, mask=mask, cmap=cmap, vmax=.3, center=0,\n",
    "            square=True, linewidths=.5, cbar_kws={\"shrink\": .5})\n",
    "\n",
    "\n",
    "plt.show()"
   ]
  },
  {
   "cell_type": "code",
   "execution_count": 37,
   "metadata": {},
   "outputs": [
    {
     "name": "stdout",
     "output_type": "stream",
     "text": [
      "[ 3.00358843  1.91299855  1.71395446  1.25507488  1.11908784  0.36537092\n",
      "  0.99486419  0.94298105  0.43998821  0.471972    0.50240864  0.84408245\n",
      "  0.80143776  0.56823302  0.7468596   0.64437532  0.67272267]\n",
      "[False False False False False False False False False False False False\n",
      " False False False False False]\n"
     ]
    },
    {
     "data": {
      "text/plain": [
       "array(['RestaurantsPriceRange2', 'lot', 'Fast Food', 'Sandwiches',\n",
       "       'casual', 'lunch', 'Breakfast & Brunch', 'street', 'breakfast',\n",
       "       'dinner', 'Desserts', 'dessert', 'brunch', 'Burgers', 'Salad',\n",
       "       'Bakeries'], dtype=object)"
      ]
     },
     "execution_count": 37,
     "metadata": {},
     "output_type": "execute_result"
    }
   ],
   "source": [
    "'''\n",
    "Doesn't look like any eigenvalues are too close to zero, so we don't have to be too concerned about colinearity when making our final insights\n",
    "'''\n",
    "corr_mat = corr_df.as_matrix().astype(np.float64)\n",
    "corr_cof = np.corrcoef(corr_mat,rowvar = 0)\n",
    "w, v = np.linalg.eig(corr_cof)\n",
    "print(w)\n",
    "print(abs(w)<0.01)\n",
    "corr_df.columns.values[:-1]"
   ]
  },
  {
   "cell_type": "code",
   "execution_count": 112,
   "metadata": {},
   "outputs": [
    {
     "name": "stdout",
     "output_type": "stream",
     "text": [
      "0.374837525509\n",
      "0.342871459346\n",
      "[  2.75593910e-02   0.00000000e+00   0.00000000e+00   0.00000000e+00\n",
      "   0.00000000e+00   0.00000000e+00   0.00000000e+00   0.00000000e+00\n",
      "   2.30295553e-03   0.00000000e+00   0.00000000e+00   0.00000000e+00\n",
      "   0.00000000e+00   0.00000000e+00   0.00000000e+00   0.00000000e+00\n",
      "   0.00000000e+00   0.00000000e+00   0.00000000e+00   0.00000000e+00\n",
      "   0.00000000e+00   0.00000000e+00   0.00000000e+00   0.00000000e+00\n",
      "   0.00000000e+00   0.00000000e+00   0.00000000e+00   2.80374606e-03\n",
      "   0.00000000e+00   2.76079761e-03   0.00000000e+00   1.56549224e-03\n",
      "   0.00000000e+00   0.00000000e+00   0.00000000e+00   0.00000000e+00\n",
      "   0.00000000e+00   0.00000000e+00   1.31751889e-02   1.40568098e-02\n",
      "   0.00000000e+00   0.00000000e+00   0.00000000e+00   1.86920461e-03\n",
      "   0.00000000e+00   3.45272395e-03   0.00000000e+00   0.00000000e+00\n",
      "   0.00000000e+00   0.00000000e+00   0.00000000e+00   0.00000000e+00\n",
      "   1.28442888e-05   0.00000000e+00   0.00000000e+00   0.00000000e+00\n",
      "   0.00000000e+00   0.00000000e+00   0.00000000e+00   0.00000000e+00\n",
      "   0.00000000e+00   0.00000000e+00   0.00000000e+00   0.00000000e+00\n",
      "   0.00000000e+00   0.00000000e+00   2.57872007e-04   1.87937606e-02\n",
      "   1.11915641e-03   0.00000000e+00   2.77852865e-03   0.00000000e+00\n",
      "   0.00000000e+00   2.72426090e-02   0.00000000e+00   0.00000000e+00\n",
      "   0.00000000e+00   0.00000000e+00   0.00000000e+00   1.38094094e-02\n",
      "   1.20202915e-02   0.00000000e+00   0.00000000e+00   0.00000000e+00\n",
      "   0.00000000e+00   0.00000000e+00   0.00000000e+00   0.00000000e+00\n",
      "   0.00000000e+00   0.00000000e+00   0.00000000e+00   4.13211982e-03\n",
      "   0.00000000e+00   0.00000000e+00   0.00000000e+00   0.00000000e+00\n",
      "   5.28789657e-04   1.13213728e-02   3.77356317e-02   1.70801111e-02\n",
      "   0.00000000e+00   0.00000000e+00   0.00000000e+00   0.00000000e+00\n",
      "   0.00000000e+00   0.00000000e+00   1.46552509e-02   1.55545624e-03\n",
      "   9.13865077e-03   0.00000000e+00   1.45026281e-03   0.00000000e+00\n",
      "   1.18006393e-02   0.00000000e+00   0.00000000e+00   1.47682746e-02\n",
      "   0.00000000e+00   0.00000000e+00   0.00000000e+00   0.00000000e+00\n",
      "   0.00000000e+00   7.80853372e-04   0.00000000e+00   0.00000000e+00\n",
      "   2.19396957e-03   0.00000000e+00   4.99303044e-03   2.45958426e-03\n",
      "   0.00000000e+00   3.23976729e-03   0.00000000e+00   0.00000000e+00\n",
      "   0.00000000e+00   0.00000000e+00   8.36328793e-03   0.00000000e+00\n",
      "   9.65554684e-03   0.00000000e+00   1.28037674e-03   0.00000000e+00\n",
      "   0.00000000e+00   0.00000000e+00   0.00000000e+00   0.00000000e+00\n",
      "   0.00000000e+00   0.00000000e+00   5.29230813e-03   0.00000000e+00\n",
      "   0.00000000e+00   0.00000000e+00   0.00000000e+00   0.00000000e+00\n",
      "   0.00000000e+00   0.00000000e+00   0.00000000e+00   0.00000000e+00\n",
      "   0.00000000e+00   0.00000000e+00   0.00000000e+00   3.97809008e-03\n",
      "   0.00000000e+00   2.68243806e-02   0.00000000e+00   0.00000000e+00\n",
      "   0.00000000e+00   0.00000000e+00   1.34079054e-01   0.00000000e+00\n",
      "   0.00000000e+00   0.00000000e+00   0.00000000e+00   2.60236580e-03\n",
      "   1.58313489e-02   4.61701537e-03   0.00000000e+00   0.00000000e+00\n",
      "   0.00000000e+00   0.00000000e+00   0.00000000e+00   0.00000000e+00\n",
      "   7.58216448e-03   6.20370543e-03   4.74711509e-03   0.00000000e+00\n",
      "   2.40576880e-02   1.14471385e-02   0.00000000e+00   0.00000000e+00\n",
      "   0.00000000e+00   0.00000000e+00   0.00000000e+00   0.00000000e+00\n",
      "   0.00000000e+00   0.00000000e+00   4.45428951e-03   3.58599690e-04\n",
      "   0.00000000e+00   6.57428896e-03   0.00000000e+00   2.49275170e-03\n",
      "   3.81742241e-03   0.00000000e+00   0.00000000e+00   0.00000000e+00\n",
      "   0.00000000e+00   0.00000000e+00   0.00000000e+00   0.00000000e+00\n",
      "   1.07414772e-03   0.00000000e+00   6.92644148e-03   0.00000000e+00\n",
      "   0.00000000e+00   1.39065634e-03   0.00000000e+00   0.00000000e+00\n",
      "   0.00000000e+00   0.00000000e+00   0.00000000e+00   0.00000000e+00\n",
      "   0.00000000e+00   0.00000000e+00   0.00000000e+00   2.40041924e-03\n",
      "   0.00000000e+00   1.68102395e-02   0.00000000e+00   0.00000000e+00\n",
      "   0.00000000e+00   0.00000000e+00   0.00000000e+00   8.62196477e-03\n",
      "   1.28795201e-03   0.00000000e+00   0.00000000e+00   0.00000000e+00\n",
      "   0.00000000e+00   0.00000000e+00   0.00000000e+00   9.19247177e-04\n",
      "   0.00000000e+00   0.00000000e+00   5.50072720e-03   0.00000000e+00\n",
      "   3.89597519e-04   0.00000000e+00   0.00000000e+00   0.00000000e+00\n",
      "   7.43563580e-03   0.00000000e+00   1.29230355e-02   0.00000000e+00\n",
      "   0.00000000e+00   0.00000000e+00   0.00000000e+00   0.00000000e+00\n",
      "   0.00000000e+00   0.00000000e+00   0.00000000e+00   0.00000000e+00\n",
      "   0.00000000e+00   0.00000000e+00   1.44802692e-02   0.00000000e+00\n",
      "   0.00000000e+00   0.00000000e+00   1.85034831e-03   0.00000000e+00\n",
      "   0.00000000e+00   0.00000000e+00   0.00000000e+00   9.49804127e-03\n",
      "   0.00000000e+00   0.00000000e+00   0.00000000e+00   0.00000000e+00\n",
      "   0.00000000e+00   0.00000000e+00   8.07022465e-03   0.00000000e+00\n",
      "   1.62323723e-02   0.00000000e+00   3.36044106e-03   1.72990484e-04\n",
      "   0.00000000e+00   0.00000000e+00   0.00000000e+00   0.00000000e+00\n",
      "   0.00000000e+00   0.00000000e+00   0.00000000e+00   0.00000000e+00\n",
      "   0.00000000e+00   0.00000000e+00   0.00000000e+00   0.00000000e+00\n",
      "   0.00000000e+00   0.00000000e+00   0.00000000e+00   0.00000000e+00\n",
      "   4.21445234e-03   8.81111107e-04   0.00000000e+00   0.00000000e+00\n",
      "   0.00000000e+00   0.00000000e+00   0.00000000e+00   1.74357500e-03\n",
      "   0.00000000e+00   0.00000000e+00   0.00000000e+00   0.00000000e+00\n",
      "   0.00000000e+00   0.00000000e+00   0.00000000e+00   3.66769118e-03\n",
      "   0.00000000e+00   0.00000000e+00   0.00000000e+00   4.05234367e-03\n",
      "   0.00000000e+00   0.00000000e+00   0.00000000e+00   0.00000000e+00\n",
      "   0.00000000e+00   0.00000000e+00   0.00000000e+00   8.49461116e-03\n",
      "   0.00000000e+00   0.00000000e+00   1.47508023e-02   0.00000000e+00\n",
      "   0.00000000e+00   0.00000000e+00   0.00000000e+00   0.00000000e+00\n",
      "   0.00000000e+00   0.00000000e+00   0.00000000e+00   1.01036539e-03\n",
      "   0.00000000e+00   0.00000000e+00   0.00000000e+00   0.00000000e+00\n",
      "   7.84849900e-04   0.00000000e+00   0.00000000e+00   0.00000000e+00\n",
      "   0.00000000e+00   0.00000000e+00   0.00000000e+00   0.00000000e+00\n",
      "   0.00000000e+00   0.00000000e+00   0.00000000e+00   0.00000000e+00\n",
      "   5.30850323e-03   2.07016240e-03   1.26390199e-02   0.00000000e+00\n",
      "   0.00000000e+00   7.59173215e-05   6.46653283e-05   0.00000000e+00\n",
      "   0.00000000e+00   4.40029694e-03   0.00000000e+00   0.00000000e+00\n",
      "   3.60711755e-03   0.00000000e+00   0.00000000e+00   0.00000000e+00\n",
      "   0.00000000e+00   0.00000000e+00   0.00000000e+00   1.72834321e-03\n",
      "   5.65955398e-03   0.00000000e+00   1.06572962e-03   0.00000000e+00\n",
      "   0.00000000e+00   0.00000000e+00   0.00000000e+00   2.03400293e-02\n",
      "   0.00000000e+00   0.00000000e+00   6.19565279e-03   0.00000000e+00\n",
      "   0.00000000e+00   0.00000000e+00   0.00000000e+00   1.90021441e-02\n",
      "   0.00000000e+00   0.00000000e+00   3.30674009e-07   0.00000000e+00\n",
      "   0.00000000e+00   0.00000000e+00   2.31855906e-03   0.00000000e+00\n",
      "   0.00000000e+00   2.34100030e-03   0.00000000e+00   2.72374398e-03\n",
      "   0.00000000e+00   0.00000000e+00   0.00000000e+00   0.00000000e+00\n",
      "   0.00000000e+00   0.00000000e+00   0.00000000e+00   1.39718556e-02\n",
      "   0.00000000e+00   0.00000000e+00   0.00000000e+00   6.22451660e-03\n",
      "   0.00000000e+00   0.00000000e+00   0.00000000e+00   0.00000000e+00\n",
      "   0.00000000e+00   0.00000000e+00   0.00000000e+00   0.00000000e+00\n",
      "   0.00000000e+00   0.00000000e+00   2.01983335e-02   2.25034295e-03\n",
      "   0.00000000e+00   5.21163583e-04   0.00000000e+00   0.00000000e+00\n",
      "   0.00000000e+00   0.00000000e+00   6.62562698e-04   0.00000000e+00\n",
      "   0.00000000e+00   0.00000000e+00   0.00000000e+00   0.00000000e+00\n",
      "   0.00000000e+00   0.00000000e+00   0.00000000e+00   0.00000000e+00\n",
      "   0.00000000e+00   0.00000000e+00   3.43574167e-03   0.00000000e+00\n",
      "   0.00000000e+00   1.42925915e-03   0.00000000e+00   2.48808182e-04\n",
      "   0.00000000e+00   0.00000000e+00   9.93651992e-03   7.61401558e-04\n",
      "   0.00000000e+00   1.36505122e-02   6.23487955e-03   0.00000000e+00\n",
      "   0.00000000e+00   5.14558757e-03   0.00000000e+00   0.00000000e+00\n",
      "   0.00000000e+00   4.60195479e-04   0.00000000e+00   0.00000000e+00\n",
      "   0.00000000e+00   0.00000000e+00   2.22359247e-06   2.21071252e-02\n",
      "   2.34109587e-02   0.00000000e+00   0.00000000e+00   0.00000000e+00\n",
      "   0.00000000e+00   0.00000000e+00   0.00000000e+00   0.00000000e+00\n",
      "   0.00000000e+00   0.00000000e+00   3.58267891e-03   3.44700314e-03\n",
      "   7.99171741e-03   9.03904023e-03   5.75358628e-03   1.69281273e-02\n",
      "   0.00000000e+00   0.00000000e+00   0.00000000e+00   0.00000000e+00\n",
      "   0.00000000e+00   1.03630517e-03   5.41074661e-03   0.00000000e+00\n",
      "   0.00000000e+00   0.00000000e+00   0.00000000e+00   0.00000000e+00]\n"
     ]
    }
   ],
   "source": [
    "gbr = GradientBoostingRegressor()\n",
    "gbr.fit(X_train,y_train)"
   ]
  },
  {
   "cell_type": "code",
   "execution_count": 119,
   "metadata": {},
   "outputs": [
    {
     "name": "stdout",
     "output_type": "stream",
     "text": [
      "0.374837525509\n",
      "0.342871459346\n",
      "(array([  0,  38,  39,  67,  73,  79,  80,  97,  98,  99, 106, 112, 115,\n",
      "       161, 166, 172, 184, 185, 225, 250, 262, 280, 330, 358, 383, 391,\n",
      "       411, 426, 457, 471, 472, 487]),)\n"
     ]
    }
   ],
   "source": [
    "'''\n",
    "Random forest pointed us in the right direction, and we were able to figure out that there was little to no multicolinearity among the top predictors.  In order to further iterate,\n",
    "I'm going to look at the gradient boosted classifier method, which is more robust with high dimensional data and more impervious to overfitting (which we experienced big time with\n",
    "the random forest).  I plan on comparing the top feature from GB with RF, and deciding on a set of features to use in a regresssion (maybe multinomial logistic?).  From the\n",
    "regresssion, we will be able to draw out important and actionable insights regarding attributes and their relationship to stars/reviews.\n",
    "'''\n",
    "\n",
    "print(gbr.score(X_train,y_train))\n",
    "print(gbr.score(X_test,y_test))\n",
    "print(np.where(gbr.feature_importances_ > .01))"
   ]
  },
  {
   "cell_type": "code",
   "execution_count": 117,
   "metadata": {},
   "outputs": [
    {
     "data": {
      "text/plain": [
       "'Fast Food'"
      ]
     },
     "execution_count": 117,
     "metadata": {},
     "output_type": "execute_result"
    }
   ],
   "source": [
    "X.columns[166]"
   ]
  }
 ],
 "metadata": {
  "kernelspec": {
   "display_name": "Python 3",
   "language": "python",
   "name": "python3"
  },
  "language_info": {
   "codemirror_mode": {
    "name": "ipython",
    "version": 3
   },
   "file_extension": ".py",
   "mimetype": "text/x-python",
   "name": "python",
   "nbconvert_exporter": "python",
   "pygments_lexer": "ipython3",
   "version": "3.6.3"
  }
 },
 "nbformat": 4,
 "nbformat_minor": 2
}
