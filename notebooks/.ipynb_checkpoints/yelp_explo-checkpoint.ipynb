{
 "cells": [
  {
   "cell_type": "markdown",
   "metadata": {
    "collapsed": true
   },
   "source": [
    "\n",
    "# Purpose\n",
    "The purpose of this exercise is to explore data provided by Yelp, the reviewing engine.  The businesses dataset used here contains information about businesses reviewed on yelp.\n",
    "I employ a number of machine learning and statistical prediction methods in order to identify attributes of a restaurant that can help predict it's rating.  This exercise\n",
    "is NOT intended to correctly predict a restaurants rating given its attributes, but instead, glean actionable insights for prospective/current restauranteurs.\n",
    "\n",
    "#### To Do:\n",
    "\n",
    "Look to reduce dimensionality of dataset\n",
    "<br>\n",
    "Run subsets of data \n",
    "<br>\n",
    "False vs. NA\n",
    "<br>\n",
    "Run simulations of random forest to prove difference in test/train"
   ]
  },
  {
   "cell_type": "code",
   "execution_count": 1,
   "metadata": {
    "collapsed": true
   },
   "outputs": [],
   "source": [
    "## Imports\n",
    "import pandas as pd\n",
    "import numpy as np\n",
    "import matplotlib.pyplot as plt\n",
    "%matplotlib inline\n",
    "from matplotlib import figure\n",
    "import seaborn as sns\n",
    "import os\n",
    "import warnings"
   ]
  },
  {
   "cell_type": "code",
   "execution_count": 2,
   "metadata": {},
   "outputs": [
    {
     "data": {
      "text/html": [
       "<style>.container { width:100% !important; }</style>"
      ],
      "text/plain": [
       "<IPython.core.display.HTML object>"
      ]
     },
     "metadata": {},
     "output_type": "display_data"
    }
   ],
   "source": [
    "# Jupyter setup to expand cell display to 100% width on your screen (optional), and print more columns and ignore WARNINGS\n",
    "from IPython.core.display import display, HTML\n",
    "display(HTML(\"<style>.container { width:100% !important; }</style>\"))\n",
    "## Settings\n",
    "pd.options.display.max_columns = 50\n",
    "warnings.filterwarnings('ignore')"
   ]
  },
  {
   "cell_type": "code",
   "execution_count": 3,
   "metadata": {},
   "outputs": [
    {
     "name": "stdout",
     "output_type": "stream",
     "text": [
      "Dimensions of the dataset:  (156639, 15)\n"
     ]
    },
    {
     "data": {
      "text/html": [
       "<div>\n",
       "<style>\n",
       "    .dataframe thead tr:only-child th {\n",
       "        text-align: right;\n",
       "    }\n",
       "\n",
       "    .dataframe thead th {\n",
       "        text-align: left;\n",
       "    }\n",
       "\n",
       "    .dataframe tbody tr th {\n",
       "        vertical-align: top;\n",
       "    }\n",
       "</style>\n",
       "<table border=\"1\" class=\"dataframe\">\n",
       "  <thead>\n",
       "    <tr style=\"text-align: right;\">\n",
       "      <th></th>\n",
       "      <th>Unnamed: 0</th>\n",
       "      <th>address</th>\n",
       "      <th>attributes</th>\n",
       "      <th>categories</th>\n",
       "      <th>city</th>\n",
       "      <th>hours</th>\n",
       "      <th>is_open</th>\n",
       "      <th>latitude</th>\n",
       "      <th>longitude</th>\n",
       "      <th>name</th>\n",
       "      <th>neighborhood</th>\n",
       "      <th>postal_code</th>\n",
       "      <th>review_count</th>\n",
       "      <th>stars</th>\n",
       "      <th>state</th>\n",
       "    </tr>\n",
       "    <tr>\n",
       "      <th>business_id</th>\n",
       "      <th></th>\n",
       "      <th></th>\n",
       "      <th></th>\n",
       "      <th></th>\n",
       "      <th></th>\n",
       "      <th></th>\n",
       "      <th></th>\n",
       "      <th></th>\n",
       "      <th></th>\n",
       "      <th></th>\n",
       "      <th></th>\n",
       "      <th></th>\n",
       "      <th></th>\n",
       "      <th></th>\n",
       "      <th></th>\n",
       "    </tr>\n",
       "  </thead>\n",
       "  <tbody>\n",
       "    <tr>\n",
       "      <th>YDf95gJZaq05wvo7hTQbbQ</th>\n",
       "      <td>0</td>\n",
       "      <td>691 Richmond Rd</td>\n",
       "      <td>{'RestaurantsPriceRange2': 2, 'BusinessParking...</td>\n",
       "      <td>['Shopping', 'Shopping Centers']</td>\n",
       "      <td>Richmond Heights</td>\n",
       "      <td>{'Monday': '10:00-21:00', 'Tuesday': '10:00-21...</td>\n",
       "      <td>1</td>\n",
       "      <td>41.541716</td>\n",
       "      <td>-81.493116</td>\n",
       "      <td>Richmond Town Square</td>\n",
       "      <td>NaN</td>\n",
       "      <td>44143</td>\n",
       "      <td>17</td>\n",
       "      <td>2.0</td>\n",
       "      <td>OH</td>\n",
       "    </tr>\n",
       "    <tr>\n",
       "      <th>mLwM-h2YhXl2NCgdS84_Bw</th>\n",
       "      <td>1</td>\n",
       "      <td>2824 Milton Rd</td>\n",
       "      <td>{'GoodForMeal': {'dessert': False, 'latenight'...</td>\n",
       "      <td>['Food', 'Soul Food', 'Convenience Stores', 'R...</td>\n",
       "      <td>Charlotte</td>\n",
       "      <td>{'Monday': '10:00-22:00', 'Tuesday': '10:00-22...</td>\n",
       "      <td>0</td>\n",
       "      <td>35.236870</td>\n",
       "      <td>-80.741976</td>\n",
       "      <td>South Florida Style Chicken &amp; Ribs</td>\n",
       "      <td>Eastland</td>\n",
       "      <td>28215</td>\n",
       "      <td>4</td>\n",
       "      <td>4.5</td>\n",
       "      <td>NC</td>\n",
       "    </tr>\n",
       "    <tr>\n",
       "      <th>v2WhjAB3PIBA8J8VxG3wEg</th>\n",
       "      <td>2</td>\n",
       "      <td>337 Danforth Avenue</td>\n",
       "      <td>{'BusinessParking': {'garage': False, 'street'...</td>\n",
       "      <td>['Food', 'Coffee &amp; Tea']</td>\n",
       "      <td>Toronto</td>\n",
       "      <td>{'Monday': '10:00-19:00', 'Tuesday': '10:00-19...</td>\n",
       "      <td>0</td>\n",
       "      <td>43.677126</td>\n",
       "      <td>-79.353285</td>\n",
       "      <td>The Tea Emporium</td>\n",
       "      <td>Riverdale</td>\n",
       "      <td>M4K 1N7</td>\n",
       "      <td>7</td>\n",
       "      <td>4.5</td>\n",
       "      <td>ON</td>\n",
       "    </tr>\n",
       "    <tr>\n",
       "      <th>CVtCbSB1zUcUWg-9TNGTuQ</th>\n",
       "      <td>3</td>\n",
       "      <td>7702 E Doubletree Ranch Rd, Ste 300</td>\n",
       "      <td>{}</td>\n",
       "      <td>['Professional Services', 'Matchmakers']</td>\n",
       "      <td>Scottsdale</td>\n",
       "      <td>{'Friday': '9:00-17:00', 'Tuesday': '9:00-17:0...</td>\n",
       "      <td>1</td>\n",
       "      <td>33.565082</td>\n",
       "      <td>-111.916400</td>\n",
       "      <td>TRUmatch</td>\n",
       "      <td>NaN</td>\n",
       "      <td>85258</td>\n",
       "      <td>3</td>\n",
       "      <td>3.0</td>\n",
       "      <td>AZ</td>\n",
       "    </tr>\n",
       "    <tr>\n",
       "      <th>duHFBe87uNSXImQmvBh87Q</th>\n",
       "      <td>4</td>\n",
       "      <td>4719 N 20Th St</td>\n",
       "      <td>{'RestaurantsTableService': False, 'GoodForMea...</td>\n",
       "      <td>['Sandwiches', 'Restaurants']</td>\n",
       "      <td>Phoenix</td>\n",
       "      <td>{}</td>\n",
       "      <td>0</td>\n",
       "      <td>33.505928</td>\n",
       "      <td>-112.038847</td>\n",
       "      <td>Blimpie</td>\n",
       "      <td>NaN</td>\n",
       "      <td>85016</td>\n",
       "      <td>10</td>\n",
       "      <td>4.5</td>\n",
       "      <td>AZ</td>\n",
       "    </tr>\n",
       "  </tbody>\n",
       "</table>\n",
       "</div>"
      ],
      "text/plain": [
       "                        Unnamed: 0                              address  \\\n",
       "business_id                                                               \n",
       "YDf95gJZaq05wvo7hTQbbQ           0                      691 Richmond Rd   \n",
       "mLwM-h2YhXl2NCgdS84_Bw           1                       2824 Milton Rd   \n",
       "v2WhjAB3PIBA8J8VxG3wEg           2                  337 Danforth Avenue   \n",
       "CVtCbSB1zUcUWg-9TNGTuQ           3  7702 E Doubletree Ranch Rd, Ste 300   \n",
       "duHFBe87uNSXImQmvBh87Q           4                       4719 N 20Th St   \n",
       "\n",
       "                                                               attributes  \\\n",
       "business_id                                                                 \n",
       "YDf95gJZaq05wvo7hTQbbQ  {'RestaurantsPriceRange2': 2, 'BusinessParking...   \n",
       "mLwM-h2YhXl2NCgdS84_Bw  {'GoodForMeal': {'dessert': False, 'latenight'...   \n",
       "v2WhjAB3PIBA8J8VxG3wEg  {'BusinessParking': {'garage': False, 'street'...   \n",
       "CVtCbSB1zUcUWg-9TNGTuQ                                                 {}   \n",
       "duHFBe87uNSXImQmvBh87Q  {'RestaurantsTableService': False, 'GoodForMea...   \n",
       "\n",
       "                                                               categories  \\\n",
       "business_id                                                                 \n",
       "YDf95gJZaq05wvo7hTQbbQ                   ['Shopping', 'Shopping Centers']   \n",
       "mLwM-h2YhXl2NCgdS84_Bw  ['Food', 'Soul Food', 'Convenience Stores', 'R...   \n",
       "v2WhjAB3PIBA8J8VxG3wEg                           ['Food', 'Coffee & Tea']   \n",
       "CVtCbSB1zUcUWg-9TNGTuQ           ['Professional Services', 'Matchmakers']   \n",
       "duHFBe87uNSXImQmvBh87Q                      ['Sandwiches', 'Restaurants']   \n",
       "\n",
       "                                    city  \\\n",
       "business_id                                \n",
       "YDf95gJZaq05wvo7hTQbbQ  Richmond Heights   \n",
       "mLwM-h2YhXl2NCgdS84_Bw         Charlotte   \n",
       "v2WhjAB3PIBA8J8VxG3wEg           Toronto   \n",
       "CVtCbSB1zUcUWg-9TNGTuQ        Scottsdale   \n",
       "duHFBe87uNSXImQmvBh87Q           Phoenix   \n",
       "\n",
       "                                                                    hours  \\\n",
       "business_id                                                                 \n",
       "YDf95gJZaq05wvo7hTQbbQ  {'Monday': '10:00-21:00', 'Tuesday': '10:00-21...   \n",
       "mLwM-h2YhXl2NCgdS84_Bw  {'Monday': '10:00-22:00', 'Tuesday': '10:00-22...   \n",
       "v2WhjAB3PIBA8J8VxG3wEg  {'Monday': '10:00-19:00', 'Tuesday': '10:00-19...   \n",
       "CVtCbSB1zUcUWg-9TNGTuQ  {'Friday': '9:00-17:00', 'Tuesday': '9:00-17:0...   \n",
       "duHFBe87uNSXImQmvBh87Q                                                 {}   \n",
       "\n",
       "                        is_open   latitude   longitude  \\\n",
       "business_id                                              \n",
       "YDf95gJZaq05wvo7hTQbbQ        1  41.541716  -81.493116   \n",
       "mLwM-h2YhXl2NCgdS84_Bw        0  35.236870  -80.741976   \n",
       "v2WhjAB3PIBA8J8VxG3wEg        0  43.677126  -79.353285   \n",
       "CVtCbSB1zUcUWg-9TNGTuQ        1  33.565082 -111.916400   \n",
       "duHFBe87uNSXImQmvBh87Q        0  33.505928 -112.038847   \n",
       "\n",
       "                                                      name neighborhood  \\\n",
       "business_id                                                               \n",
       "YDf95gJZaq05wvo7hTQbbQ                Richmond Town Square          NaN   \n",
       "mLwM-h2YhXl2NCgdS84_Bw  South Florida Style Chicken & Ribs     Eastland   \n",
       "v2WhjAB3PIBA8J8VxG3wEg                    The Tea Emporium    Riverdale   \n",
       "CVtCbSB1zUcUWg-9TNGTuQ                            TRUmatch          NaN   \n",
       "duHFBe87uNSXImQmvBh87Q                             Blimpie          NaN   \n",
       "\n",
       "                       postal_code  review_count  stars state  \n",
       "business_id                                                    \n",
       "YDf95gJZaq05wvo7hTQbbQ       44143            17    2.0    OH  \n",
       "mLwM-h2YhXl2NCgdS84_Bw       28215             4    4.5    NC  \n",
       "v2WhjAB3PIBA8J8VxG3wEg     M4K 1N7             7    4.5    ON  \n",
       "CVtCbSB1zUcUWg-9TNGTuQ       85258             3    3.0    AZ  \n",
       "duHFBe87uNSXImQmvBh87Q       85016            10    4.5    AZ  "
      ]
     },
     "execution_count": 3,
     "metadata": {},
     "output_type": "execute_result"
    }
   ],
   "source": [
    "## Look at businesses first\n",
    "path = os.path.expanduser('/Users/mmoesta/Documents/DA_Training/yelp_data_analysis/dataset/csv/')\n",
    "business_df = pd.read_csv(path + 'business.csv')\n",
    "##Setting indices\n",
    "business_df.set_index('business_id',inplace = True)\n",
    "print('Dimensions of the dataset:  ' + str(business_df.shape))\n",
    "business_df.head()"
   ]
  },
  {
   "cell_type": "code",
   "execution_count": 4,
   "metadata": {
    "collapsed": true
   },
   "outputs": [],
   "source": [
    "## Looking only @ restaurants\n",
    "restaurants = business_df['categories'].str.contains('Restaurants')\n",
    "food = business_df['categories'].str.contains('Food')\n",
    "restfood_df=business_df[restaurants & food]"
   ]
  },
  {
   "cell_type": "code",
   "execution_count": 5,
   "metadata": {},
   "outputs": [
    {
     "data": {
      "text/plain": [
       "1    12867\n",
       "Name: is_open, dtype: int64"
      ]
     },
     "execution_count": 5,
     "metadata": {},
     "output_type": "execute_result"
    }
   ],
   "source": [
    "## Getting rid of all restaurants that are no longer open\n",
    "## Do this first to minimize data\n",
    "restfood_df= restfood_df[restfood_df['is_open'] != 0]\n",
    "restfood_df['is_open'].value_counts()"
   ]
  },
  {
   "cell_type": "code",
   "execution_count": 6,
   "metadata": {
    "collapsed": true
   },
   "outputs": [],
   "source": [
    "## Manual categories to remove\n",
    "categoriesToRemove = ['Grocery','Drugstores','Convenience Stores','Beauty & Spas','Photography Stores & Services',\n",
    "                      'Cosmetics & Beauty Supply','Discount Store','Fashion','Department Stores','Gas Stations',\n",
    "                      'Automotive','Music & Video','Event Planning & Services','Mobile Phones','Health & Medical',\n",
    "                      'Weight Loss Centers','Home & Garden','Kitchen & Bath','Jewelry',\"Children's Clothing\",\n",
    "                      'Accessories','Home Decor','Bus Tours','Auto Glass Services','Auto Detailing',\n",
    "                      'Oil Change Stations', 'Auto Repair','Body Shops','Car Window Tinting','Car Wash',\n",
    "                      'Gluten-Free','Fitness & Instruction','Nurseries & Gardening','Wedding Planning',\n",
    "                      'Embroidery & Crochet','Dance Schools','Performing Arts',\n",
    "                      'Wholesale Stores','Tobacco Shops','Nutritionists','Hobby Shops','Pet Services',\n",
    "                      'Electronics','Plumbing','Gyms','Yoga','Walking Tours','Toy Stores','Pet Stores',\n",
    "                      'Pet Groomers','Vape Shops','Head Shops',\n",
    "                      'Souvenir Shops','Pharmacy','Appliances & Repair','Wholesalers','Party Equipment Rentals',\n",
    "                      'Tattoo','Funeral Services & Cemeteries','Sporting Goods','Dog Walkers',\n",
    "                      'Pet Boarding/Pet Sitting','Scavenger Hunts','Contractors','Trainers', \n",
    "                      'Customized Merchandise', 'Dry Cleaning & Laundry', 'Art Galleries'\n",
    "                      'Tax Law', 'Bankruptcy Law', 'Tax Services', 'Estate Planning Law', \n",
    "                      'Business Consulting', 'Lawyers', 'Pet Adoption', 'Escape Games', \n",
    "                      'Animal Shelters', 'Commercial Real Estate', 'Real Estate Agents', \n",
    "                      'Real Estate Services', 'Home Inspectors']\n",
    "\n",
    "\n",
    "restfood_df = restfood_df[-restfood_df['categories'].isin(categoriesToRemove)]"
   ]
  },
  {
   "cell_type": "markdown",
   "metadata": {},
   "source": [
    "### Note to Self ^^:\n",
    "I think that this removes an entire row if one of the categories in the row contains a value in categoriesToRemove\n",
    "will have to revisit\n"
   ]
  },
  {
   "cell_type": "code",
   "execution_count": 7,
   "metadata": {
    "collapsed": true
   },
   "outputs": [],
   "source": [
    "'''Function to expand attributes and categories columns into dummy columns.  Credit - nick-morgancreate_attributes\n",
    "takes a dataframe as an input, as well as a list of columns that are dictionaries\n",
    "takes each column that is a dictionary, and expands it into a series of dummy columns'''\n",
    "\n",
    "def create_attributes(df, dictList):\n",
    "    \n",
    "    for dictionaryColumn in dictList:\n",
    "        \n",
    "        #the attributes column is a string of dictionaries, so one extra step is taken to convert\n",
    "        if dictionaryColumn == 'attributes':\n",
    "            expandedColumns = df[dictionaryColumn].map(eval).apply(pd.Series)\n",
    "        else:\n",
    "            expandedColumns = df[dictionaryColumn].apply(pd.Series)\n",
    "        \n",
    "        df = pd.concat([df.drop(dictionaryColumn,axis=1), \n",
    "                   expandedColumns]\n",
    "                  ,axis=1)\n",
    "        \n",
    "        #df.fillna(value='{}',inplace=True)\n",
    "        if df.index.name != 'business_id':\n",
    "            df.set_index('business_id', inplace=True)\n",
    "    return df\n",
    "\n",
    "## Function to expand categories.  Credit - nick-morgan\n",
    "def expand_categories(df, cat_var, key):\n",
    "    all_cats = df[cat_var].str.cat(sep=', ')\n",
    "    all_cats = all_cats.replace('[', '')\n",
    "    all_cats = all_cats.replace(']', '')\n",
    "    all_cats = all_cats.replace(\"\\'\",\"\")\n",
    "    all_cats = all_cats.replace('\"','')\n",
    "    all_cats_list = all_cats.split(', ')\n",
    "    unique_cats = list(set(all_cats_list))\n",
    "    unique_cats.remove('Restaurants')\n",
    "    unique_cats.remove('Food')\n",
    "    df.reset_index(inplace=True)\n",
    "    df_cats = pd.DataFrame(index=df[key], columns=unique_cats, data=False)\n",
    "    df_out = df.merge(df_cats, how='left', left_on=key, right_index=True)\n",
    "    for cat in unique_cats:\n",
    "        df_out[cat] = df_out[cat_var].str.contains(cat)\n",
    "    if df.index.name != 'business_id':\n",
    "        df_out.set_index('business_id', inplace=True)\n",
    "    return df_out "
   ]
  },
  {
   "cell_type": "code",
   "execution_count": 8,
   "metadata": {
    "collapsed": true
   },
   "outputs": [],
   "source": [
    "attributes_df= create_attributes(restfood_df, ['attributes'])"
   ]
  },
  {
   "cell_type": "code",
   "execution_count": 9,
   "metadata": {
    "collapsed": true
   },
   "outputs": [],
   "source": [
    "categories_df = expand_categories(restfood_df, 'categories', 'business_id')"
   ]
  },
  {
   "cell_type": "code",
   "execution_count": 11,
   "metadata": {},
   "outputs": [
    {
     "data": {
      "text/html": [
       "<div>\n",
       "<style>\n",
       "    .dataframe thead tr:only-child th {\n",
       "        text-align: right;\n",
       "    }\n",
       "\n",
       "    .dataframe thead th {\n",
       "        text-align: left;\n",
       "    }\n",
       "\n",
       "    .dataframe tbody tr th {\n",
       "        vertical-align: top;\n",
       "    }\n",
       "</style>\n",
       "<table border=\"1\" class=\"dataframe\">\n",
       "  <thead>\n",
       "    <tr style=\"text-align: right;\">\n",
       "      <th></th>\n",
       "      <th>Unnamed: 0</th>\n",
       "      <th>address</th>\n",
       "      <th>categories</th>\n",
       "      <th>city</th>\n",
       "      <th>hours</th>\n",
       "      <th>is_open</th>\n",
       "      <th>latitude</th>\n",
       "      <th>longitude</th>\n",
       "      <th>name</th>\n",
       "      <th>neighborhood</th>\n",
       "      <th>postal_code</th>\n",
       "      <th>review_count</th>\n",
       "      <th>stars</th>\n",
       "      <th>state</th>\n",
       "      <th>AcceptsInsurance</th>\n",
       "      <th>AgesAllowed</th>\n",
       "      <th>Alcohol</th>\n",
       "      <th>Ambience</th>\n",
       "      <th>BYOB</th>\n",
       "      <th>BYOBCorkage</th>\n",
       "      <th>BestNights</th>\n",
       "      <th>BikeParking</th>\n",
       "      <th>BusinessAcceptsBitcoin</th>\n",
       "      <th>BusinessAcceptsCreditCards</th>\n",
       "      <th>BusinessParking</th>\n",
       "      <th>...</th>\n",
       "      <th>Venues &amp; Event Spaces</th>\n",
       "      <th>Videos &amp; Video Game Rental</th>\n",
       "      <th>Vietnamese</th>\n",
       "      <th>Vintage &amp; Consignment</th>\n",
       "      <th>Vinyl Records</th>\n",
       "      <th>Vitamins &amp; Supplements</th>\n",
       "      <th>Waffles</th>\n",
       "      <th>Walking Tours</th>\n",
       "      <th>Water Stores</th>\n",
       "      <th>Wedding Chapels</th>\n",
       "      <th>Wedding Planning</th>\n",
       "      <th>Weight Loss Centers</th>\n",
       "      <th>Whiskey Bars</th>\n",
       "      <th>Wholesale Stores</th>\n",
       "      <th>Wholesalers</th>\n",
       "      <th>Wine &amp; Spirits</th>\n",
       "      <th>Wine Bars</th>\n",
       "      <th>Wine Tasting Room</th>\n",
       "      <th>Wine Tours</th>\n",
       "      <th>Wineries</th>\n",
       "      <th>Womens Clothing</th>\n",
       "      <th>Wraps</th>\n",
       "      <th>Yelp Events</th>\n",
       "      <th>Yoga</th>\n",
       "      <th>attributes</th>\n",
       "    </tr>\n",
       "    <tr>\n",
       "      <th>business_id</th>\n",
       "      <th></th>\n",
       "      <th></th>\n",
       "      <th></th>\n",
       "      <th></th>\n",
       "      <th></th>\n",
       "      <th></th>\n",
       "      <th></th>\n",
       "      <th></th>\n",
       "      <th></th>\n",
       "      <th></th>\n",
       "      <th></th>\n",
       "      <th></th>\n",
       "      <th></th>\n",
       "      <th></th>\n",
       "      <th></th>\n",
       "      <th></th>\n",
       "      <th></th>\n",
       "      <th></th>\n",
       "      <th></th>\n",
       "      <th></th>\n",
       "      <th></th>\n",
       "      <th></th>\n",
       "      <th></th>\n",
       "      <th></th>\n",
       "      <th></th>\n",
       "      <th></th>\n",
       "      <th></th>\n",
       "      <th></th>\n",
       "      <th></th>\n",
       "      <th></th>\n",
       "      <th></th>\n",
       "      <th></th>\n",
       "      <th></th>\n",
       "      <th></th>\n",
       "      <th></th>\n",
       "      <th></th>\n",
       "      <th></th>\n",
       "      <th></th>\n",
       "      <th></th>\n",
       "      <th></th>\n",
       "      <th></th>\n",
       "      <th></th>\n",
       "      <th></th>\n",
       "      <th></th>\n",
       "      <th></th>\n",
       "      <th></th>\n",
       "      <th></th>\n",
       "      <th></th>\n",
       "      <th></th>\n",
       "      <th></th>\n",
       "      <th></th>\n",
       "    </tr>\n",
       "  </thead>\n",
       "  <tbody>\n",
       "    <tr>\n",
       "      <th>reWc1g65PNZnKz_Ub9QKOQ</th>\n",
       "      <td>34</td>\n",
       "      <td>30 High Tech Rd</td>\n",
       "      <td>['Comfort Food', 'Canadian (New)', 'Restaurant...</td>\n",
       "      <td>Richmond Hill</td>\n",
       "      <td>{'Monday': '11:00-23:00', 'Tuesday': '11:00-23...</td>\n",
       "      <td>1</td>\n",
       "      <td>43.841993</td>\n",
       "      <td>-79.429343</td>\n",
       "      <td>Milestones Restaurants</td>\n",
       "      <td>NaN</td>\n",
       "      <td>L4B 4L9</td>\n",
       "      <td>51</td>\n",
       "      <td>2.5</td>\n",
       "      <td>ON</td>\n",
       "      <td>NaN</td>\n",
       "      <td>NaN</td>\n",
       "      <td>full_bar</td>\n",
       "      <td>{'romantic': False, 'intimate': False, 'classy...</td>\n",
       "      <td>NaN</td>\n",
       "      <td>NaN</td>\n",
       "      <td>{'monday': False, 'tuesday': False, 'friday': ...</td>\n",
       "      <td>True</td>\n",
       "      <td>NaN</td>\n",
       "      <td>True</td>\n",
       "      <td>{'garage': False, 'street': True, 'validated':...</td>\n",
       "      <td>...</td>\n",
       "      <td>False</td>\n",
       "      <td>False</td>\n",
       "      <td>False</td>\n",
       "      <td>False</td>\n",
       "      <td>False</td>\n",
       "      <td>False</td>\n",
       "      <td>False</td>\n",
       "      <td>False</td>\n",
       "      <td>False</td>\n",
       "      <td>False</td>\n",
       "      <td>False</td>\n",
       "      <td>False</td>\n",
       "      <td>False</td>\n",
       "      <td>False</td>\n",
       "      <td>False</td>\n",
       "      <td>False</td>\n",
       "      <td>False</td>\n",
       "      <td>False</td>\n",
       "      <td>False</td>\n",
       "      <td>False</td>\n",
       "      <td>False</td>\n",
       "      <td>False</td>\n",
       "      <td>False</td>\n",
       "      <td>False</td>\n",
       "      <td>{'Alcohol': 'full_bar', 'HasTV': True, 'NoiseL...</td>\n",
       "    </tr>\n",
       "    <tr>\n",
       "      <th>L1XHTn7S-6har9UGAPjcWQ</th>\n",
       "      <td>35</td>\n",
       "      <td>280 W Beaver Creek Road, Unit 30</td>\n",
       "      <td>['Taiwanese', 'Food', 'Coffee &amp; Tea', 'Restaur...</td>\n",
       "      <td>Richmond Hill</td>\n",
       "      <td>{}</td>\n",
       "      <td>1</td>\n",
       "      <td>43.843475</td>\n",
       "      <td>-79.387686</td>\n",
       "      <td>Papa Chang's Tea Bistro</td>\n",
       "      <td>NaN</td>\n",
       "      <td>L4B 3Z1</td>\n",
       "      <td>4</td>\n",
       "      <td>4.0</td>\n",
       "      <td>ON</td>\n",
       "      <td>NaN</td>\n",
       "      <td>NaN</td>\n",
       "      <td>none</td>\n",
       "      <td>{'romantic': False, 'intimate': False, 'classy...</td>\n",
       "      <td>NaN</td>\n",
       "      <td>NaN</td>\n",
       "      <td>NaN</td>\n",
       "      <td>NaN</td>\n",
       "      <td>NaN</td>\n",
       "      <td>NaN</td>\n",
       "      <td>NaN</td>\n",
       "      <td>...</td>\n",
       "      <td>False</td>\n",
       "      <td>False</td>\n",
       "      <td>False</td>\n",
       "      <td>False</td>\n",
       "      <td>False</td>\n",
       "      <td>False</td>\n",
       "      <td>False</td>\n",
       "      <td>False</td>\n",
       "      <td>False</td>\n",
       "      <td>False</td>\n",
       "      <td>False</td>\n",
       "      <td>False</td>\n",
       "      <td>False</td>\n",
       "      <td>False</td>\n",
       "      <td>False</td>\n",
       "      <td>False</td>\n",
       "      <td>False</td>\n",
       "      <td>False</td>\n",
       "      <td>False</td>\n",
       "      <td>False</td>\n",
       "      <td>False</td>\n",
       "      <td>False</td>\n",
       "      <td>False</td>\n",
       "      <td>False</td>\n",
       "      <td>{'GoodForMeal': {'dessert': False, 'latenight'...</td>\n",
       "    </tr>\n",
       "    <tr>\n",
       "      <th>58APdML-PG_OD4El2ePTvw</th>\n",
       "      <td>54</td>\n",
       "      <td>106 Rue McGill</td>\n",
       "      <td>['Restaurants', 'Specialty Food', 'French', 'B...</td>\n",
       "      <td>Montréal</td>\n",
       "      <td>{'Monday': '7:00-19:30', 'Tuesday': '7:00-19:3...</td>\n",
       "      <td>1</td>\n",
       "      <td>45.499409</td>\n",
       "      <td>-73.555200</td>\n",
       "      <td>Le Cartet</td>\n",
       "      <td>Ville-Marie</td>\n",
       "      <td>H2Y 2E5</td>\n",
       "      <td>344</td>\n",
       "      <td>4.0</td>\n",
       "      <td>QC</td>\n",
       "      <td>NaN</td>\n",
       "      <td>NaN</td>\n",
       "      <td>full_bar</td>\n",
       "      <td>{'romantic': False, 'intimate': False, 'classy...</td>\n",
       "      <td>NaN</td>\n",
       "      <td>NaN</td>\n",
       "      <td>NaN</td>\n",
       "      <td>True</td>\n",
       "      <td>NaN</td>\n",
       "      <td>True</td>\n",
       "      <td>{'garage': False, 'street': True, 'validated':...</td>\n",
       "      <td>...</td>\n",
       "      <td>False</td>\n",
       "      <td>False</td>\n",
       "      <td>False</td>\n",
       "      <td>False</td>\n",
       "      <td>False</td>\n",
       "      <td>False</td>\n",
       "      <td>False</td>\n",
       "      <td>False</td>\n",
       "      <td>False</td>\n",
       "      <td>False</td>\n",
       "      <td>False</td>\n",
       "      <td>False</td>\n",
       "      <td>False</td>\n",
       "      <td>False</td>\n",
       "      <td>False</td>\n",
       "      <td>False</td>\n",
       "      <td>False</td>\n",
       "      <td>False</td>\n",
       "      <td>False</td>\n",
       "      <td>False</td>\n",
       "      <td>False</td>\n",
       "      <td>False</td>\n",
       "      <td>False</td>\n",
       "      <td>False</td>\n",
       "      <td>{'RestaurantsTableService': True, 'GoodForMeal...</td>\n",
       "    </tr>\n",
       "    <tr>\n",
       "      <th>Z1r6b30Tg0n0ME4-Zj2wQQ</th>\n",
       "      <td>55</td>\n",
       "      <td>1675 Lake Shore Boulevard E</td>\n",
       "      <td>['American (Traditional)', 'Restaurants', 'Bar...</td>\n",
       "      <td>Toronto</td>\n",
       "      <td>{'Monday': '8:00-16:00', 'Tuesday': '8:00-16:0...</td>\n",
       "      <td>1</td>\n",
       "      <td>43.663010</td>\n",
       "      <td>-79.310898</td>\n",
       "      <td>Boardwalk Place</td>\n",
       "      <td>NaN</td>\n",
       "      <td>M4W 3L6</td>\n",
       "      <td>13</td>\n",
       "      <td>3.0</td>\n",
       "      <td>ON</td>\n",
       "      <td>NaN</td>\n",
       "      <td>NaN</td>\n",
       "      <td>full_bar</td>\n",
       "      <td>{'romantic': False, 'intimate': False, 'classy...</td>\n",
       "      <td>NaN</td>\n",
       "      <td>NaN</td>\n",
       "      <td>NaN</td>\n",
       "      <td>True</td>\n",
       "      <td>NaN</td>\n",
       "      <td>True</td>\n",
       "      <td>NaN</td>\n",
       "      <td>...</td>\n",
       "      <td>False</td>\n",
       "      <td>False</td>\n",
       "      <td>False</td>\n",
       "      <td>False</td>\n",
       "      <td>False</td>\n",
       "      <td>False</td>\n",
       "      <td>False</td>\n",
       "      <td>False</td>\n",
       "      <td>False</td>\n",
       "      <td>False</td>\n",
       "      <td>False</td>\n",
       "      <td>False</td>\n",
       "      <td>False</td>\n",
       "      <td>False</td>\n",
       "      <td>False</td>\n",
       "      <td>True</td>\n",
       "      <td>False</td>\n",
       "      <td>False</td>\n",
       "      <td>False</td>\n",
       "      <td>False</td>\n",
       "      <td>False</td>\n",
       "      <td>False</td>\n",
       "      <td>False</td>\n",
       "      <td>False</td>\n",
       "      <td>{'DogsAllowed': True, 'Alcohol': 'full_bar', '...</td>\n",
       "    </tr>\n",
       "    <tr>\n",
       "      <th>LDMCrFlGIFUN6L-FEFgzWg</th>\n",
       "      <td>58</td>\n",
       "      <td>2400 E Lake Mead Blvd</td>\n",
       "      <td>['Restaurants', 'American (Traditional)', 'Mex...</td>\n",
       "      <td>Las Vegas</td>\n",
       "      <td>{'Monday': '9:00-23:00', 'Tuesday': '9:00-23:0...</td>\n",
       "      <td>1</td>\n",
       "      <td>36.196203</td>\n",
       "      <td>-115.116799</td>\n",
       "      <td>El Pollo Loco</td>\n",
       "      <td>NaN</td>\n",
       "      <td>89030</td>\n",
       "      <td>12</td>\n",
       "      <td>3.0</td>\n",
       "      <td>NV</td>\n",
       "      <td>NaN</td>\n",
       "      <td>NaN</td>\n",
       "      <td>none</td>\n",
       "      <td>{'romantic': False, 'intimate': False, 'classy...</td>\n",
       "      <td>NaN</td>\n",
       "      <td>NaN</td>\n",
       "      <td>NaN</td>\n",
       "      <td>False</td>\n",
       "      <td>NaN</td>\n",
       "      <td>True</td>\n",
       "      <td>{'garage': False, 'street': False, 'validated'...</td>\n",
       "      <td>...</td>\n",
       "      <td>False</td>\n",
       "      <td>False</td>\n",
       "      <td>False</td>\n",
       "      <td>False</td>\n",
       "      <td>False</td>\n",
       "      <td>False</td>\n",
       "      <td>False</td>\n",
       "      <td>False</td>\n",
       "      <td>False</td>\n",
       "      <td>False</td>\n",
       "      <td>False</td>\n",
       "      <td>False</td>\n",
       "      <td>False</td>\n",
       "      <td>False</td>\n",
       "      <td>False</td>\n",
       "      <td>False</td>\n",
       "      <td>False</td>\n",
       "      <td>False</td>\n",
       "      <td>False</td>\n",
       "      <td>False</td>\n",
       "      <td>False</td>\n",
       "      <td>False</td>\n",
       "      <td>False</td>\n",
       "      <td>False</td>\n",
       "      <td>{'RestaurantsTableService': True, 'GoodForMeal...</td>\n",
       "    </tr>\n",
       "  </tbody>\n",
       "</table>\n",
       "<p>5 rows × 495 columns</p>\n",
       "</div>"
      ],
      "text/plain": [
       "                        Unnamed: 0                           address  \\\n",
       "business_id                                                            \n",
       "reWc1g65PNZnKz_Ub9QKOQ          34                   30 High Tech Rd   \n",
       "L1XHTn7S-6har9UGAPjcWQ          35  280 W Beaver Creek Road, Unit 30   \n",
       "58APdML-PG_OD4El2ePTvw          54                    106 Rue McGill   \n",
       "Z1r6b30Tg0n0ME4-Zj2wQQ          55       1675 Lake Shore Boulevard E   \n",
       "LDMCrFlGIFUN6L-FEFgzWg          58             2400 E Lake Mead Blvd   \n",
       "\n",
       "                                                               categories  \\\n",
       "business_id                                                                 \n",
       "reWc1g65PNZnKz_Ub9QKOQ  ['Comfort Food', 'Canadian (New)', 'Restaurant...   \n",
       "L1XHTn7S-6har9UGAPjcWQ  ['Taiwanese', 'Food', 'Coffee & Tea', 'Restaur...   \n",
       "58APdML-PG_OD4El2ePTvw  ['Restaurants', 'Specialty Food', 'French', 'B...   \n",
       "Z1r6b30Tg0n0ME4-Zj2wQQ  ['American (Traditional)', 'Restaurants', 'Bar...   \n",
       "LDMCrFlGIFUN6L-FEFgzWg  ['Restaurants', 'American (Traditional)', 'Mex...   \n",
       "\n",
       "                                 city  \\\n",
       "business_id                             \n",
       "reWc1g65PNZnKz_Ub9QKOQ  Richmond Hill   \n",
       "L1XHTn7S-6har9UGAPjcWQ  Richmond Hill   \n",
       "58APdML-PG_OD4El2ePTvw       Montréal   \n",
       "Z1r6b30Tg0n0ME4-Zj2wQQ        Toronto   \n",
       "LDMCrFlGIFUN6L-FEFgzWg      Las Vegas   \n",
       "\n",
       "                                                                    hours  \\\n",
       "business_id                                                                 \n",
       "reWc1g65PNZnKz_Ub9QKOQ  {'Monday': '11:00-23:00', 'Tuesday': '11:00-23...   \n",
       "L1XHTn7S-6har9UGAPjcWQ                                                 {}   \n",
       "58APdML-PG_OD4El2ePTvw  {'Monday': '7:00-19:30', 'Tuesday': '7:00-19:3...   \n",
       "Z1r6b30Tg0n0ME4-Zj2wQQ  {'Monday': '8:00-16:00', 'Tuesday': '8:00-16:0...   \n",
       "LDMCrFlGIFUN6L-FEFgzWg  {'Monday': '9:00-23:00', 'Tuesday': '9:00-23:0...   \n",
       "\n",
       "                        is_open   latitude   longitude  \\\n",
       "business_id                                              \n",
       "reWc1g65PNZnKz_Ub9QKOQ        1  43.841993  -79.429343   \n",
       "L1XHTn7S-6har9UGAPjcWQ        1  43.843475  -79.387686   \n",
       "58APdML-PG_OD4El2ePTvw        1  45.499409  -73.555200   \n",
       "Z1r6b30Tg0n0ME4-Zj2wQQ        1  43.663010  -79.310898   \n",
       "LDMCrFlGIFUN6L-FEFgzWg        1  36.196203 -115.116799   \n",
       "\n",
       "                                           name neighborhood postal_code  \\\n",
       "business_id                                                                \n",
       "reWc1g65PNZnKz_Ub9QKOQ   Milestones Restaurants          NaN     L4B 4L9   \n",
       "L1XHTn7S-6har9UGAPjcWQ  Papa Chang's Tea Bistro          NaN     L4B 3Z1   \n",
       "58APdML-PG_OD4El2ePTvw                Le Cartet  Ville-Marie     H2Y 2E5   \n",
       "Z1r6b30Tg0n0ME4-Zj2wQQ          Boardwalk Place          NaN     M4W 3L6   \n",
       "LDMCrFlGIFUN6L-FEFgzWg            El Pollo Loco          NaN       89030   \n",
       "\n",
       "                        review_count  stars state AcceptsInsurance  \\\n",
       "business_id                                                          \n",
       "reWc1g65PNZnKz_Ub9QKOQ            51    2.5    ON              NaN   \n",
       "L1XHTn7S-6har9UGAPjcWQ             4    4.0    ON              NaN   \n",
       "58APdML-PG_OD4El2ePTvw           344    4.0    QC              NaN   \n",
       "Z1r6b30Tg0n0ME4-Zj2wQQ            13    3.0    ON              NaN   \n",
       "LDMCrFlGIFUN6L-FEFgzWg            12    3.0    NV              NaN   \n",
       "\n",
       "                       AgesAllowed   Alcohol  \\\n",
       "business_id                                    \n",
       "reWc1g65PNZnKz_Ub9QKOQ         NaN  full_bar   \n",
       "L1XHTn7S-6har9UGAPjcWQ         NaN      none   \n",
       "58APdML-PG_OD4El2ePTvw         NaN  full_bar   \n",
       "Z1r6b30Tg0n0ME4-Zj2wQQ         NaN  full_bar   \n",
       "LDMCrFlGIFUN6L-FEFgzWg         NaN      none   \n",
       "\n",
       "                                                                 Ambience  \\\n",
       "business_id                                                                 \n",
       "reWc1g65PNZnKz_Ub9QKOQ  {'romantic': False, 'intimate': False, 'classy...   \n",
       "L1XHTn7S-6har9UGAPjcWQ  {'romantic': False, 'intimate': False, 'classy...   \n",
       "58APdML-PG_OD4El2ePTvw  {'romantic': False, 'intimate': False, 'classy...   \n",
       "Z1r6b30Tg0n0ME4-Zj2wQQ  {'romantic': False, 'intimate': False, 'classy...   \n",
       "LDMCrFlGIFUN6L-FEFgzWg  {'romantic': False, 'intimate': False, 'classy...   \n",
       "\n",
       "                       BYOB BYOBCorkage  \\\n",
       "business_id                               \n",
       "reWc1g65PNZnKz_Ub9QKOQ  NaN         NaN   \n",
       "L1XHTn7S-6har9UGAPjcWQ  NaN         NaN   \n",
       "58APdML-PG_OD4El2ePTvw  NaN         NaN   \n",
       "Z1r6b30Tg0n0ME4-Zj2wQQ  NaN         NaN   \n",
       "LDMCrFlGIFUN6L-FEFgzWg  NaN         NaN   \n",
       "\n",
       "                                                               BestNights  \\\n",
       "business_id                                                                 \n",
       "reWc1g65PNZnKz_Ub9QKOQ  {'monday': False, 'tuesday': False, 'friday': ...   \n",
       "L1XHTn7S-6har9UGAPjcWQ                                                NaN   \n",
       "58APdML-PG_OD4El2ePTvw                                                NaN   \n",
       "Z1r6b30Tg0n0ME4-Zj2wQQ                                                NaN   \n",
       "LDMCrFlGIFUN6L-FEFgzWg                                                NaN   \n",
       "\n",
       "                       BikeParking BusinessAcceptsBitcoin  \\\n",
       "business_id                                                 \n",
       "reWc1g65PNZnKz_Ub9QKOQ        True                    NaN   \n",
       "L1XHTn7S-6har9UGAPjcWQ         NaN                    NaN   \n",
       "58APdML-PG_OD4El2ePTvw        True                    NaN   \n",
       "Z1r6b30Tg0n0ME4-Zj2wQQ        True                    NaN   \n",
       "LDMCrFlGIFUN6L-FEFgzWg       False                    NaN   \n",
       "\n",
       "                       BusinessAcceptsCreditCards  \\\n",
       "business_id                                         \n",
       "reWc1g65PNZnKz_Ub9QKOQ                       True   \n",
       "L1XHTn7S-6har9UGAPjcWQ                        NaN   \n",
       "58APdML-PG_OD4El2ePTvw                       True   \n",
       "Z1r6b30Tg0n0ME4-Zj2wQQ                       True   \n",
       "LDMCrFlGIFUN6L-FEFgzWg                       True   \n",
       "\n",
       "                                                          BusinessParking  \\\n",
       "business_id                                                                 \n",
       "reWc1g65PNZnKz_Ub9QKOQ  {'garage': False, 'street': True, 'validated':...   \n",
       "L1XHTn7S-6har9UGAPjcWQ                                                NaN   \n",
       "58APdML-PG_OD4El2ePTvw  {'garage': False, 'street': True, 'validated':...   \n",
       "Z1r6b30Tg0n0ME4-Zj2wQQ                                                NaN   \n",
       "LDMCrFlGIFUN6L-FEFgzWg  {'garage': False, 'street': False, 'validated'...   \n",
       "\n",
       "                                              ...                          \\\n",
       "business_id                                   ...                           \n",
       "reWc1g65PNZnKz_Ub9QKOQ                        ...                           \n",
       "L1XHTn7S-6har9UGAPjcWQ                        ...                           \n",
       "58APdML-PG_OD4El2ePTvw                        ...                           \n",
       "Z1r6b30Tg0n0ME4-Zj2wQQ                        ...                           \n",
       "LDMCrFlGIFUN6L-FEFgzWg                        ...                           \n",
       "\n",
       "                       Venues & Event Spaces Videos & Video Game Rental  \\\n",
       "business_id                                                               \n",
       "reWc1g65PNZnKz_Ub9QKOQ                 False                      False   \n",
       "L1XHTn7S-6har9UGAPjcWQ                 False                      False   \n",
       "58APdML-PG_OD4El2ePTvw                 False                      False   \n",
       "Z1r6b30Tg0n0ME4-Zj2wQQ                 False                      False   \n",
       "LDMCrFlGIFUN6L-FEFgzWg                 False                      False   \n",
       "\n",
       "                       Vietnamese Vintage & Consignment Vinyl Records  \\\n",
       "business_id                                                             \n",
       "reWc1g65PNZnKz_Ub9QKOQ      False                 False         False   \n",
       "L1XHTn7S-6har9UGAPjcWQ      False                 False         False   \n",
       "58APdML-PG_OD4El2ePTvw      False                 False         False   \n",
       "Z1r6b30Tg0n0ME4-Zj2wQQ      False                 False         False   \n",
       "LDMCrFlGIFUN6L-FEFgzWg      False                 False         False   \n",
       "\n",
       "                       Vitamins & Supplements Waffles Walking Tours  \\\n",
       "business_id                                                           \n",
       "reWc1g65PNZnKz_Ub9QKOQ                  False   False         False   \n",
       "L1XHTn7S-6har9UGAPjcWQ                  False   False         False   \n",
       "58APdML-PG_OD4El2ePTvw                  False   False         False   \n",
       "Z1r6b30Tg0n0ME4-Zj2wQQ                  False   False         False   \n",
       "LDMCrFlGIFUN6L-FEFgzWg                  False   False         False   \n",
       "\n",
       "                       Water Stores Wedding Chapels Wedding Planning  \\\n",
       "business_id                                                            \n",
       "reWc1g65PNZnKz_Ub9QKOQ        False           False            False   \n",
       "L1XHTn7S-6har9UGAPjcWQ        False           False            False   \n",
       "58APdML-PG_OD4El2ePTvw        False           False            False   \n",
       "Z1r6b30Tg0n0ME4-Zj2wQQ        False           False            False   \n",
       "LDMCrFlGIFUN6L-FEFgzWg        False           False            False   \n",
       "\n",
       "                       Weight Loss Centers Whiskey Bars Wholesale Stores  \\\n",
       "business_id                                                                \n",
       "reWc1g65PNZnKz_Ub9QKOQ               False        False            False   \n",
       "L1XHTn7S-6har9UGAPjcWQ               False        False            False   \n",
       "58APdML-PG_OD4El2ePTvw               False        False            False   \n",
       "Z1r6b30Tg0n0ME4-Zj2wQQ               False        False            False   \n",
       "LDMCrFlGIFUN6L-FEFgzWg               False        False            False   \n",
       "\n",
       "                       Wholesalers Wine & Spirits Wine Bars Wine Tasting Room  \\\n",
       "business_id                                                                     \n",
       "reWc1g65PNZnKz_Ub9QKOQ       False          False     False             False   \n",
       "L1XHTn7S-6har9UGAPjcWQ       False          False     False             False   \n",
       "58APdML-PG_OD4El2ePTvw       False          False     False             False   \n",
       "Z1r6b30Tg0n0ME4-Zj2wQQ       False           True     False             False   \n",
       "LDMCrFlGIFUN6L-FEFgzWg       False          False     False             False   \n",
       "\n",
       "                       Wine Tours Wineries  Womens Clothing  Wraps  \\\n",
       "business_id                                                          \n",
       "reWc1g65PNZnKz_Ub9QKOQ      False    False            False  False   \n",
       "L1XHTn7S-6har9UGAPjcWQ      False    False            False  False   \n",
       "58APdML-PG_OD4El2ePTvw      False    False            False  False   \n",
       "Z1r6b30Tg0n0ME4-Zj2wQQ      False    False            False  False   \n",
       "LDMCrFlGIFUN6L-FEFgzWg      False    False            False  False   \n",
       "\n",
       "                       Yelp Events   Yoga  \\\n",
       "business_id                                 \n",
       "reWc1g65PNZnKz_Ub9QKOQ       False  False   \n",
       "L1XHTn7S-6har9UGAPjcWQ       False  False   \n",
       "58APdML-PG_OD4El2ePTvw       False  False   \n",
       "Z1r6b30Tg0n0ME4-Zj2wQQ       False  False   \n",
       "LDMCrFlGIFUN6L-FEFgzWg       False  False   \n",
       "\n",
       "                                                               attributes  \n",
       "business_id                                                                \n",
       "reWc1g65PNZnKz_Ub9QKOQ  {'Alcohol': 'full_bar', 'HasTV': True, 'NoiseL...  \n",
       "L1XHTn7S-6har9UGAPjcWQ  {'GoodForMeal': {'dessert': False, 'latenight'...  \n",
       "58APdML-PG_OD4El2ePTvw  {'RestaurantsTableService': True, 'GoodForMeal...  \n",
       "Z1r6b30Tg0n0ME4-Zj2wQQ  {'DogsAllowed': True, 'Alcohol': 'full_bar', '...  \n",
       "LDMCrFlGIFUN6L-FEFgzWg  {'RestaurantsTableService': True, 'GoodForMeal...  \n",
       "\n",
       "[5 rows x 495 columns]"
      ]
     },
     "execution_count": 11,
     "metadata": {},
     "output_type": "execute_result"
    }
   ],
   "source": [
    "cols_to_use = categories_df.columns.difference(attributes_df.columns)\n",
    "result_df = attributes_df.merge(categories_df[cols_to_use], how = 'inner', left_index =True, right_index = True, copy = False)\n",
    "result_df.head()"
   ]
  },
  {
   "cell_type": "code",
   "execution_count": 12,
   "metadata": {},
   "outputs": [
    {
     "name": "stdout",
     "output_type": "stream",
     "text": [
      "The columns that still need to be expanded:  ['hours', 'state', 'AcceptsInsurance', 'AgesAllowed', 'Alcohol', 'Ambience', 'BYOB', 'BYOBCorkage', 'BestNights', 'BikeParking', 'BusinessAcceptsBitcoin', 'BusinessAcceptsCreditCards', 'BusinessParking', 'ByAppointmentOnly', 'Caters', 'CoatCheck', 'Corkage', 'DietaryRestrictions', 'DogsAllowed', 'DriveThru', 'GoodForDancing', 'GoodForKids', 'GoodForMeal', 'HappyHour', 'HasTV', 'Music', 'NoiseLevel', 'Open24Hours', 'OutdoorSeating', 'RestaurantsAttire', 'RestaurantsCounterService', 'RestaurantsDelivery', 'RestaurantsGoodForGroups', 'RestaurantsReservations', 'RestaurantsTableService', 'RestaurantsTakeOut', 'Smoking', 'WheelchairAccessible', 'WiFi']\n"
     ]
    }
   ],
   "source": [
    "result_df.drop(['categories','attributes','address','city','name','neighborhood','postal_code'],\n",
    "                                  axis=1,inplace=True)\n",
    "att_to_expand = []\n",
    "for i in range(len(result_df.columns.values)):\n",
    "    if result_df[result_df.columns.values[i]].dtype == 'O':\n",
    "            att_to_expand.append(result_df.columns.values[i])         \n",
    "print('The columns that still need to be expanded:  ' + str(att_to_expand))"
   ]
  },
  {
   "cell_type": "code",
   "execution_count": 15,
   "metadata": {
    "collapsed": true
   },
   "outputs": [],
   "source": [
    "expanded_rest_df = create_attributes(result_df,att_to_expand)"
   ]
  },
  {
   "cell_type": "code",
   "execution_count": 16,
   "metadata": {
    "collapsed": true
   },
   "outputs": [],
   "source": [
    "## Drop any unnamed columns:  This means they didn't have a name when columns were expanded, would not be useful to our analysis\n",
    "unnamed_cols = [0] * 40\n",
    "expanded_rest_df.drop(labels = unnamed_cols,axis=1,inplace=True)"
   ]
  },
  {
   "cell_type": "code",
   "execution_count": 17,
   "metadata": {
    "collapsed": true
   },
   "outputs": [],
   "source": [
    "## Fill NA values with zeroes\n",
    "expanded_rest_df.fillna(value = 0, inplace =True)"
   ]
  },
  {
   "cell_type": "code",
   "execution_count": 18,
   "metadata": {
    "collapsed": true
   },
   "outputs": [],
   "source": [
    "## Transforming DataFrame to arrays for sklearn analysis\n",
    "y = expanded_rest_df['stars']\n",
    "X = expanded_rest_df.drop(labels=['stars','Unnamed: 0', 'is_open','latitude','longitude','review_count'], axis=1)"
   ]
  },
  {
   "cell_type": "code",
   "execution_count": 19,
   "metadata": {},
   "outputs": [
    {
     "data": {
      "text/plain": [
       "(12867, 484)"
      ]
     },
     "execution_count": 19,
     "metadata": {},
     "output_type": "execute_result"
    }
   ],
   "source": [
    "X.shape"
   ]
  },
  {
   "cell_type": "markdown",
   "metadata": {},
   "source": [
    "## Analysis\n",
    "\n",
    "### Principal Compenents (PCA)\n",
    "\n",
    "PCA is an easy way to get an understanding of the complexity of your high dimensional data.  In some cases, it can also be used to formulate predictions using components (linear combinations of features) and the coefficients.  I will use PCA to get an understanding of the complexity of the data.  Once I understand the complexity of the data, I can figure out the best path moving forward"
   ]
  },
  {
   "cell_type": "code",
   "execution_count": 20,
   "metadata": {
    "collapsed": true
   },
   "outputs": [],
   "source": [
    "from sklearn.decomposition import PCA"
   ]
  },
  {
   "cell_type": "code",
   "execution_count": 21,
   "metadata": {},
   "outputs": [
    {
     "name": "stdout",
     "output_type": "stream",
     "text": [
      "Variance explained by first 20 components: [ 0.13453425  0.08982583  0.06336562  0.04400319  0.03762024  0.03580554\n",
      "  0.03384686  0.02448971  0.02333514  0.02014179  0.01917077  0.01755161\n",
      "  0.01664156  0.01632004  0.01537028  0.01507873  0.014052    0.01315465\n",
      "  0.0127286   0.01246621] \n",
      "Total  % variance explained by first 20 components: 0.6595026360299585 \n"
     ]
    }
   ],
   "source": [
    "pca = PCA()\n",
    "pca.fit(X,y)\n",
    "variance_vals = pca.explained_variance_ratio_[:20]\n",
    "print(f'Variance explained by first 20 components: {variance_vals} ')\n",
    "variance = sum(variance_vals)\n",
    "print(f'Total  % variance explained by first 20 components: {variance} ')"
   ]
  },
  {
   "cell_type": "markdown",
   "metadata": {},
   "source": [
    "Looks like the top 20 components only account for about 66% of the variance in the data.  This sets our expectations for model metrics moving forward."
   ]
  },
  {
   "cell_type": "markdown",
   "metadata": {},
   "source": [
    "### Random Forest Classifier\n",
    "\n",
    "Next, I consider using a random forest classifier to predict the groups to which the data belongs.  Random forest uses random subsets of the data to create weak learners, that together create a single learning model that classifies the data."
   ]
  },
  {
   "cell_type": "code",
   "execution_count": 22,
   "metadata": {
    "collapsed": true
   },
   "outputs": [],
   "source": [
    "from sklearn.ensemble import RandomForestClassifier\n",
    "from sklearn.model_selection import train_test_split\n",
    "from sklearn import preprocessing\n",
    "from sklearn import utils"
   ]
  },
  {
   "cell_type": "code",
   "execution_count": 23,
   "metadata": {
    "collapsed": true
   },
   "outputs": [],
   "source": [
    "## Have to encode the predictor variable to binary in order to run RF\n",
    "lab_enc = preprocessing.LabelEncoder()\n",
    "y_encoded = lab_enc.fit_transform(y)"
   ]
  },
  {
   "cell_type": "code",
   "execution_count": 24,
   "metadata": {
    "collapsed": true
   },
   "outputs": [],
   "source": [
    "X_mat = X.as_matrix()\n",
    "# Splitting the data into train and test\n",
    "X_train,X_test,y_train,y_test = train_test_split(X_mat,y_encoded, test_size=0.3)\n",
    "clf = RandomForestClassifier()"
   ]
  },
  {
   "cell_type": "code",
   "execution_count": 25,
   "metadata": {},
   "outputs": [
    {
     "data": {
      "text/plain": [
       "RandomForestClassifier(bootstrap=True, class_weight=None, criterion='gini',\n",
       "            max_depth=None, max_features='auto', max_leaf_nodes=None,\n",
       "            min_impurity_decrease=0.0, min_impurity_split=None,\n",
       "            min_samples_leaf=1, min_samples_split=2,\n",
       "            min_weight_fraction_leaf=0.0, n_estimators=10, n_jobs=1,\n",
       "            oob_score=False, random_state=None, verbose=0,\n",
       "            warm_start=False)"
      ]
     },
     "execution_count": 25,
     "metadata": {},
     "output_type": "execute_result"
    }
   ],
   "source": [
    "clf.fit(X_train,y_train)"
   ]
  },
  {
   "cell_type": "code",
   "execution_count": 26,
   "metadata": {},
   "outputs": [
    {
     "data": {
      "text/plain": [
       "0.74983344437041977"
      ]
     },
     "execution_count": 26,
     "metadata": {},
     "output_type": "execute_result"
    }
   ],
   "source": [
    "## Wow, looks pretty good!\n",
    "clf.score(X_train,y_train)"
   ]
  },
  {
   "cell_type": "code",
   "execution_count": 27,
   "metadata": {},
   "outputs": [
    {
     "data": {
      "text/plain": [
       "0.25718725718725721"
      ]
     },
     "execution_count": 27,
     "metadata": {},
     "output_type": "execute_result"
    }
   ],
   "source": [
    "## Nevermind, some serious overfitting going on here.  Model is detecting patterns that don't exist in test data.\n",
    "clf.score(X_test,y_test)"
   ]
  },
  {
   "cell_type": "code",
   "execution_count": 28,
   "metadata": {},
   "outputs": [
    {
     "name": "stdout",
     "output_type": "stream",
     "text": [
      "The most important features are: ['RestaurantsPriceRange2' 'lot' 'Fast Food' 'Sandwiches' 'lunch' 'casual'\n",
      " 'breakfast' 'Breakfast & Brunch' 'dinner' 'street' 'Coffee & Tea'\n",
      " 'Burgers' 'brunch' 'dessert' 'Salad' 'Cafes' 'Bakeries'] \n"
     ]
    },
    {
     "data": {
      "image/png": "[encoded data removed]",
      "text/plain": [
       "<matplotlib.figure.Figure at 0x1a122ae208>"
      ]
     },
     "metadata": {},
     "output_type": "display_data"
    }
   ],
   "source": [
    "## Okay, so we won't use random forest here, but maybe we can look @ feature importances for some clues\n",
    "feat_index = list(np.where(clf.feature_importances_ > .015)[0])\n",
    "feat_vals = clf.feature_importances_[feat_index]\n",
    "feat_names = X.columns.values[feat_index]\n",
    "clf_df = pd.DataFrame({\n",
    "    'feat_names': feat_names,\n",
    "    'feat_index':feat_index,\n",
    "    'feat_vals':feat_vals\n",
    "})\n",
    "fig = plt.figure(figsize=(14,8))\n",
    "clf_df.sort_values(by=\"feat_vals\",ascending=False,inplace=True)\n",
    "feat_names_sorted = clf_df['feat_names'].values\n",
    "print(f'The most important features are: {feat_names_sorted} ')\n",
    "clf_df.set_index('feat_names',inplace=True)\n",
    "class_graph = (clf_df['feat_vals']\n",
    " .plot.barh()\n",
    " .set_title('Feature Importances')\n",
    ")\n",
    "plt.show()"
   ]
  },
  {
   "cell_type": "markdown",
   "metadata": {},
   "source": [
    "#### What's wrong with the RFC?\n",
    "\n",
    "Well first off, random forests generally do not do well with high-dimensional data.  Secondly, I'm not so sure this is the best way to calculate our error.  Our dependant variable (stars) is ordinal, somewhere between continuous and categorical.  When we are using RCF, a model that predicts a given 4-star restaurant $R$ as a 1-star is no less wrong than a model that predicts $R$ to be a 3-star restaurant."
   ]
  },
  {
   "cell_type": "markdown",
   "metadata": {},
   "source": [
    "### Revisiting Random Forest error minimization with RFR\n",
    "\n",
    "Using a **Random Forest Regressor (RFR)** may solve our error problem.  Instead of predicting what class of stars a restaurant falls into, this will predict a continuous score metric for the restaurant.  The problem now becomes interpretations of predictions.  Since the predictions are continuous and the dependant variable is ordinal, it is unlikely that any values will match their predicted value.  This could cause confusion if you were using a metric like accuracy the judge the validity of this model."
   ]
  },
  {
   "cell_type": "code",
   "execution_count": 29,
   "metadata": {
    "collapsed": true
   },
   "outputs": [],
   "source": [
    "from sklearn.ensemble import RandomForestRegressor"
   ]
  },
  {
   "cell_type": "code",
   "execution_count": 30,
   "metadata": {},
   "outputs": [
    {
     "data": {
      "text/plain": [
       "RandomForestRegressor(bootstrap=True, criterion='mse', max_depth=None,\n",
       "           max_features='auto', max_leaf_nodes=None,\n",
       "           min_impurity_decrease=0.0, min_impurity_split=None,\n",
       "           min_samples_leaf=1, min_samples_split=2,\n",
       "           min_weight_fraction_leaf=0.0, n_estimators=10, n_jobs=1,\n",
       "           oob_score=False, random_state=None, verbose=0, warm_start=False)"
      ]
     },
     "execution_count": 30,
     "metadata": {},
     "output_type": "execute_result"
    }
   ],
   "source": [
    "regr = RandomForestRegressor()\n",
    "regr.fit(X_train,y_train)"
   ]
  },
  {
   "cell_type": "code",
   "execution_count": 31,
   "metadata": {},
   "outputs": [
    {
     "name": "stdout",
     "output_type": "stream",
     "text": [
      "Score of regressor on training:  0.683024150211\n",
      "Score of regressor on test:  0.265210734887\n"
     ]
    }
   ],
   "source": [
    "print('Score of regressor on training:  ' + str(regr.score(X_train,y_train)))\n",
    "## Still pretty bad\n",
    "print('Score of regressor on test:  ' + str(regr.score(X_test,y_test)))"
   ]
  },
  {
   "cell_type": "markdown",
   "metadata": {},
   "source": [
    "It looks like the regressor has the same problem as the classifier, overfitting the training data.  Do the feature importances line up?"
   ]
  },
  {
   "cell_type": "code",
   "execution_count": 32,
   "metadata": {},
   "outputs": [
    {
     "name": "stdout",
     "output_type": "stream",
     "text": [
      "The most important features are:  ['Fast Food' 'lunch' 'RestaurantsPriceRange2' 'Burgers' 'casual' 'lot'\n",
      " 'Sandwiches' 'street' 'Delis' 'Chicken Wings' 'breakfast'\n",
      " 'Breakfast & Brunch' 'Pizza' 'Coffee & Tea' 'Salad' 'brunch' 'Desserts'\n",
      " 'Cafes']\n"
     ]
    },
    {
     "data": {
      "image/png": "[encoded data removed]",
      "text/plain": [
       "<matplotlib.figure.Figure at 0x1a15c2f9b0>"
      ]
     },
     "metadata": {},
     "output_type": "display_data"
    },
    {
     "name": "stdout",
     "output_type": "stream",
     "text": [
      "The most important features are:  ['RestaurantsPriceRange2' 'Breakfast & Brunch' 'Burgers' 'Cafes'\n",
      " 'Chicken Wings' 'Coffee & Tea' 'Delis' 'Desserts' 'Fast Food' 'Pizza'\n",
      " 'Salad' 'Sandwiches' 'casual' 'lot' 'street' 'breakfast' 'brunch' 'lunch']\n"
     ]
    }
   ],
   "source": [
    "# Let's look at feature importances for regressor\n",
    "r_feat_index = list(np.where(regr.feature_importances_ > .01)[0])\n",
    "r_feat_vals = regr.feature_importances_[r_feat_index]\n",
    "r_feat_names = X.columns.values[r_feat_index]\n",
    "regr_df = pd.DataFrame({\n",
    "    'feat_names': r_feat_names,\n",
    "    'feat_index': r_feat_index,\n",
    "    'feat_vals': r_feat_vals\n",
    "})\n",
    "fig = plt.figure(figsize=(14,8))\n",
    "regr_df.sort_values(by=\"feat_vals\",ascending=False,inplace=True)\n",
    "print('The most important features are:  ' + str(regr_df['feat_names'].values))\n",
    "regr_df.set_index('feat_names',inplace=True)\n",
    "class_graph = (regr_df['feat_vals']\n",
    " .plot.barh()\n",
    " .set_title('Feature Importances')\n",
    ")\n",
    "\n",
    "plt.show()\n",
    "print('The most important features are:  ' + str(r_feat_names))"
   ]
  },
  {
   "cell_type": "markdown",
   "metadata": {},
   "source": [
    "Looks like when I use RFR, the Fast Food attribute is emphasized compared to the RFC."
   ]
  },
  {
   "cell_type": "markdown",
   "metadata": {},
   "source": [
    "#### Correlation Table\n",
    "Visual representation of correlations via correlation table.  Use the features that are most important from RF to look at their relationship to 'stars' and any\n",
    "indication to colinearity.\n",
    "We will also look at eigenvalues to get a better idea."
   ]
  },
  {
   "cell_type": "code",
   "execution_count": 33,
   "metadata": {
    "collapsed": true
   },
   "outputs": [],
   "source": [
    "corr_feats = list(clf_df.index.values)\n",
    "corr_feats.append('stars')\n",
    "corr_df = expanded_rest_df[corr_feats]"
   ]
  },
  {
   "cell_type": "code",
   "execution_count": 34,
   "metadata": {},
   "outputs": [
    {
     "data": {
      "image/png": "[encoded data removed]",
      "text/plain": [
       "<matplotlib.figure.Figure at 0x1a15aa3dd8>"
      ]
     },
     "metadata": {},
     "output_type": "display_data"
    }
   ],
   "source": [
    "sns.set(style=\"white\")\n",
    "# Compute the correlation matrix\n",
    "hist_corr = corr_df\n",
    "corr = hist_corr.corr()\n",
    "\n",
    "# Generate a mask for the upper triangle\n",
    "mask = np.zeros_like(corr, dtype=np.bool)\n",
    "mask[np.triu_indices_from(mask)] = True\n",
    "\n",
    "# Set up the matplotlib figure\n",
    "f, ax = plt.subplots(figsize=(15, 11))\n",
    "\n",
    "# Generate a custom diverging colormap\n",
    "cmap = sns.diverging_palette(10, 220, as_cmap=True)\n",
    "\n",
    "# Draw the heatmap with the mask and correct aspect ratio\n",
    "sns.heatmap(corr, mask=mask, cmap=cmap, vmax=.3, center=0,\n",
    "            square=True, linewidths=.5, cbar_kws={\"shrink\": .5})\n",
    "\n",
    "\n",
    "plt.show()"
   ]
  },
  {
   "cell_type": "markdown",
   "metadata": {},
   "source": [
    "Doesn't look like any eigenvalues are too close to zero, so we don't have to be too concerned about colinearity when making our final insights."
   ]
  },
  {
   "cell_type": "code",
   "execution_count": 35,
   "metadata": {},
   "outputs": [
    {
     "name": "stdout",
     "output_type": "stream",
     "text": [
      "[ 3.06427506  2.33978826  1.70518591  1.28030153  1.07542737  0.96409285\n",
      "  0.95008566  0.90474975  0.83970755  0.75470888  0.67952638  0.65025281\n",
      "  0.36479436  0.56443797  0.42852484  0.50410948  0.47475618  0.45527515]\n",
      "[False False False False False False False False False False False False\n",
      " False False False False False False]\n"
     ]
    }
   ],
   "source": [
    "corr_mat = corr_df.as_matrix().astype(np.float64)\n",
    "corr_cof = np.corrcoef(corr_mat,rowvar = 0)\n",
    "w, v = np.linalg.eig(corr_cof)\n",
    "print(w)\n",
    "print(abs(w)<0.01)"
   ]
  },
  {
   "cell_type": "markdown",
   "metadata": {},
   "source": [
    "### Gradient Boosting\n",
    "\n",
    "Since RF didn't work out so well,  Lets try and use GB method.  Gradient Boosting is an improvement of RF that uses weighted subsets of weak learners in order to gather a more robust set of weak learners.  Like RF, it then uses those learners to create one single estimator.\n",
    "\n",
    "Random forest pointed us in the right direction, and we were able to figure out that there was little to no multicolinearity among the top predictors.  In order to further iterate,\n",
    "I'm going to look at the gradient boosted classifier method, which is more robust with high dimensional data and more impervious to overfitting (which we experienced big time with\n",
    "the random forest).  I plan on using the top features from the GBR in an ordinal least absolute deviance regression (see below).  From that\n",
    "regresssion, we will hopefully be able to draw out important and actionable insights regarding attributes and their relationship to stars."
   ]
  },
  {
   "cell_type": "code",
   "execution_count": 36,
   "metadata": {
    "collapsed": true
   },
   "outputs": [],
   "source": [
    "from sklearn.ensemble import GradientBoostingRegressor"
   ]
  },
  {
   "cell_type": "code",
   "execution_count": 37,
   "metadata": {},
   "outputs": [
    {
     "data": {
      "text/plain": [
       "GradientBoostingRegressor(alpha=0.9, criterion='friedman_mse', init=None,\n",
       "             learning_rate=0.1, loss='ls', max_depth=3, max_features=None,\n",
       "             max_leaf_nodes=None, min_impurity_decrease=0.0,\n",
       "             min_impurity_split=None, min_samples_leaf=1,\n",
       "             min_samples_split=2, min_weight_fraction_leaf=0.0,\n",
       "             n_estimators=100, presort='auto', random_state=None,\n",
       "             subsample=1.0, verbose=0, warm_start=False)"
      ]
     },
     "execution_count": 37,
     "metadata": {},
     "output_type": "execute_result"
    }
   ],
   "source": [
    "gbr = GradientBoostingRegressor()\n",
    "\n",
    "gbr.fit(X_train,y_train)"
   ]
  },
  {
   "cell_type": "code",
   "execution_count": 38,
   "metadata": {},
   "outputs": [
    {
     "name": "stdout",
     "output_type": "stream",
     "text": [
      "Minimal overfitting, yay!\n",
      "GB Train Score:  0.3794501042491297\n",
      "GB Test SCore:  0.3339330782411634\n"
     ]
    }
   ],
   "source": [
    "gbr_train_score = gbr.score(X_train,y_train)\n",
    "gbr_test_score = gbr.score(X_test,y_test)\n",
    "print('Minimal overfitting, yay!')\n",
    "print(f'GB Train Score:  {gbr_train_score}')\n",
    "print(f'GB Test SCore:  {gbr_test_score}')\n",
    "gbr_index = np.where(gbr.feature_importances_ > .01)[0]\n",
    "gbr_names = list(X.columns.values[gbr_index])"
   ]
  },
  {
   "cell_type": "code",
   "execution_count": 39,
   "metadata": {
    "collapsed": true
   },
   "outputs": [],
   "source": [
    "gbr_df = X[gbr_names]\n",
    "gbr_X = gbr_df.as_matrix()"
   ]
  },
  {
   "cell_type": "code",
   "execution_count": 40,
   "metadata": {
    "collapsed": true
   },
   "outputs": [],
   "source": [
    "# Make matrices of top features from GBR\n",
    "gbr_X_train,gbr_X_test,gbr_y_train,gbr_y_test = train_test_split(gbr_X,y ,test_size=0.3)"
   ]
  },
  {
   "cell_type": "markdown",
   "metadata": {},
   "source": [
    "### LAD Regression\n",
    "\n",
    "The mord python package uses the scikit learn API to create various statistical methods for ordinal data (perfect!).  We will use the the ordinal Least Absolute Deviance\n",
    "(LAD) regression here.  This regression was primarily chosen because it uses the L1 norm as the error measurement, which puts an emphasis on feature selection, but may leave us vulnerable if anyof the predictors happened to be multicollinear.  But since we already confirmed no multicollinearity, we are able use this method more confidently."
   ]
  },
  {
   "cell_type": "code",
   "execution_count": 41,
   "metadata": {
    "collapsed": true
   },
   "outputs": [],
   "source": [
    "from mord.regression_based import LAD"
   ]
  },
  {
   "cell_type": "code",
   "execution_count": 42,
   "metadata": {},
   "outputs": [
    {
     "name": "stdout",
     "output_type": "stream",
     "text": [
      "[LibLinear]"
     ]
    },
    {
     "data": {
      "text/plain": [
       "LAD(C=1.0, dual=True, epsilon=0.0, fit_intercept=True, intercept_scaling=1.0,\n",
       "  loss='epsilon_insensitive', max_iter=1000, random_state=None, tol=0.0001,\n",
       "  verbose=1)"
      ]
     },
     "execution_count": 42,
     "metadata": {},
     "output_type": "execute_result"
    }
   ],
   "source": [
    "lad_train = LAD(verbose=1)\n",
    "lad_train.fit(gbr_X_train,gbr_y_train)"
   ]
  },
  {
   "cell_type": "code",
   "execution_count": 43,
   "metadata": {},
   "outputs": [
    {
     "data": {
      "text/html": [
       "<div>\n",
       "<style>\n",
       "    .dataframe thead tr:only-child th {\n",
       "        text-align: right;\n",
       "    }\n",
       "\n",
       "    .dataframe thead th {\n",
       "        text-align: left;\n",
       "    }\n",
       "\n",
       "    .dataframe tbody tr th {\n",
       "        vertical-align: top;\n",
       "    }\n",
       "</style>\n",
       "<table border=\"1\" class=\"dataframe\">\n",
       "  <thead>\n",
       "    <tr style=\"text-align: right;\">\n",
       "      <th></th>\n",
       "      <th>name</th>\n",
       "      <th>value</th>\n",
       "    </tr>\n",
       "  </thead>\n",
       "  <tbody>\n",
       "    <tr>\n",
       "      <th>11</th>\n",
       "      <td>Curry Sausage</td>\n",
       "      <td>0.996635</td>\n",
       "    </tr>\n",
       "    <tr>\n",
       "      <th>22</th>\n",
       "      <td>Poke</td>\n",
       "      <td>0.501001</td>\n",
       "    </tr>\n",
       "    <tr>\n",
       "      <th>14</th>\n",
       "      <td>Fish &amp; Chips</td>\n",
       "      <td>0.499526</td>\n",
       "    </tr>\n",
       "    <tr>\n",
       "      <th>10</th>\n",
       "      <td>Convenience Stores</td>\n",
       "      <td>0.492109</td>\n",
       "    </tr>\n",
       "    <tr>\n",
       "      <th>16</th>\n",
       "      <td>Food Trucks</td>\n",
       "      <td>0.491319</td>\n",
       "    </tr>\n",
       "    <tr>\n",
       "      <th>25</th>\n",
       "      <td>Street Vendors</td>\n",
       "      <td>0.456544</td>\n",
       "    </tr>\n",
       "    <tr>\n",
       "      <th>27</th>\n",
       "      <td>Vegan</td>\n",
       "      <td>0.354376</td>\n",
       "    </tr>\n",
       "    <tr>\n",
       "      <th>20</th>\n",
       "      <td>Latin American</td>\n",
       "      <td>0.337716</td>\n",
       "    </tr>\n",
       "    <tr>\n",
       "      <th>18</th>\n",
       "      <td>Gluten-Free</td>\n",
       "      <td>0.195002</td>\n",
       "    </tr>\n",
       "    <tr>\n",
       "      <th>30</th>\n",
       "      <td>street</td>\n",
       "      <td>0.171956</td>\n",
       "    </tr>\n",
       "    <tr>\n",
       "      <th>12</th>\n",
       "      <td>Event Planning &amp; Services</td>\n",
       "      <td>0.170397</td>\n",
       "    </tr>\n",
       "    <tr>\n",
       "      <th>29</th>\n",
       "      <td>lot</td>\n",
       "      <td>0.167820</td>\n",
       "    </tr>\n",
       "    <tr>\n",
       "      <th>24</th>\n",
       "      <td>Specialty Food</td>\n",
       "      <td>0.166154</td>\n",
       "    </tr>\n",
       "    <tr>\n",
       "      <th>2</th>\n",
       "      <td>Bakeries</td>\n",
       "      <td>0.163821</td>\n",
       "    </tr>\n",
       "    <tr>\n",
       "      <th>21</th>\n",
       "      <td>Mediterranean</td>\n",
       "      <td>0.163400</td>\n",
       "    </tr>\n",
       "    <tr>\n",
       "      <th>5</th>\n",
       "      <td>Cafes</td>\n",
       "      <td>0.162586</td>\n",
       "    </tr>\n",
       "    <tr>\n",
       "      <th>32</th>\n",
       "      <td>lunch</td>\n",
       "      <td>0.162379</td>\n",
       "    </tr>\n",
       "    <tr>\n",
       "      <th>17</th>\n",
       "      <td>French</td>\n",
       "      <td>0.161995</td>\n",
       "    </tr>\n",
       "    <tr>\n",
       "      <th>8</th>\n",
       "      <td>Coffee &amp; Tea</td>\n",
       "      <td>0.161554</td>\n",
       "    </tr>\n",
       "    <tr>\n",
       "      <th>31</th>\n",
       "      <td>dinner</td>\n",
       "      <td>0.155543</td>\n",
       "    </tr>\n",
       "    <tr>\n",
       "      <th>19</th>\n",
       "      <td>Hot Dogs</td>\n",
       "      <td>0.031876</td>\n",
       "    </tr>\n",
       "    <tr>\n",
       "      <th>28</th>\n",
       "      <td>casual</td>\n",
       "      <td>0.001014</td>\n",
       "    </tr>\n",
       "    <tr>\n",
       "      <th>0</th>\n",
       "      <td>RestaurantsPriceRange2</td>\n",
       "      <td>-0.003137</td>\n",
       "    </tr>\n",
       "    <tr>\n",
       "      <th>3</th>\n",
       "      <td>Breakfast &amp; Brunch</td>\n",
       "      <td>-0.003957</td>\n",
       "    </tr>\n",
       "    <tr>\n",
       "      <th>23</th>\n",
       "      <td>Salad</td>\n",
       "      <td>-0.006620</td>\n",
       "    </tr>\n",
       "    <tr>\n",
       "      <th>15</th>\n",
       "      <td>Food Delivery Services</td>\n",
       "      <td>-0.007320</td>\n",
       "    </tr>\n",
       "    <tr>\n",
       "      <th>9</th>\n",
       "      <td>Comfort Food</td>\n",
       "      <td>-0.178998</td>\n",
       "    </tr>\n",
       "    <tr>\n",
       "      <th>7</th>\n",
       "      <td>Chinese</td>\n",
       "      <td>-0.343550</td>\n",
       "    </tr>\n",
       "    <tr>\n",
       "      <th>6</th>\n",
       "      <td>Chicken Wings</td>\n",
       "      <td>-0.495536</td>\n",
       "    </tr>\n",
       "    <tr>\n",
       "      <th>4</th>\n",
       "      <td>Burgers</td>\n",
       "      <td>-0.499040</td>\n",
       "    </tr>\n",
       "    <tr>\n",
       "      <th>1</th>\n",
       "      <td>Bagels</td>\n",
       "      <td>-0.499141</td>\n",
       "    </tr>\n",
       "    <tr>\n",
       "      <th>26</th>\n",
       "      <td>Tex-Mex</td>\n",
       "      <td>-0.500267</td>\n",
       "    </tr>\n",
       "    <tr>\n",
       "      <th>13</th>\n",
       "      <td>Fast Food</td>\n",
       "      <td>-0.509298</td>\n",
       "    </tr>\n",
       "  </tbody>\n",
       "</table>\n",
       "</div>"
      ],
      "text/plain": [
       "                         name     value\n",
       "11              Curry Sausage  0.996635\n",
       "22                       Poke  0.501001\n",
       "14               Fish & Chips  0.499526\n",
       "10         Convenience Stores  0.492109\n",
       "16                Food Trucks  0.491319\n",
       "25             Street Vendors  0.456544\n",
       "27                      Vegan  0.354376\n",
       "20             Latin American  0.337716\n",
       "18                Gluten-Free  0.195002\n",
       "30                     street  0.171956\n",
       "12  Event Planning & Services  0.170397\n",
       "29                        lot  0.167820\n",
       "24             Specialty Food  0.166154\n",
       "2                    Bakeries  0.163821\n",
       "21              Mediterranean  0.163400\n",
       "5                       Cafes  0.162586\n",
       "32                      lunch  0.162379\n",
       "17                     French  0.161995\n",
       "8                Coffee & Tea  0.161554\n",
       "31                     dinner  0.155543\n",
       "19                   Hot Dogs  0.031876\n",
       "28                     casual  0.001014\n",
       "0      RestaurantsPriceRange2 -0.003137\n",
       "3          Breakfast & Brunch -0.003957\n",
       "23                      Salad -0.006620\n",
       "15     Food Delivery Services -0.007320\n",
       "9                Comfort Food -0.178998\n",
       "7                     Chinese -0.343550\n",
       "6               Chicken Wings -0.495536\n",
       "4                     Burgers -0.499040\n",
       "1                      Bagels -0.499141\n",
       "26                    Tex-Mex -0.500267\n",
       "13                  Fast Food -0.509298"
      ]
     },
     "execution_count": 43,
     "metadata": {},
     "output_type": "execute_result"
    }
   ],
   "source": [
    "## Look at coefficient values for 'most important features' determined by Gradient Boosted Linear Regression\n",
    "lad_coef_train_df = pd.DataFrame({\n",
    "    'name':gbr_names,\n",
    "    'value':list(lad_train.coef_)\n",
    "})\n",
    "lad_coef_train_df.sort_values(by=['value'],ascending=False,axis=0,inplace=False)"
   ]
  },
  {
   "cell_type": "code",
   "execution_count": 44,
   "metadata": {
    "collapsed": true
   },
   "outputs": [],
   "source": [
    "# Getting proportions of each top and bottom 5 attributes for each star category and average across all restaurants\n",
    "poke_vals = pd.crosstab(expanded_rest_df['stars'],expanded_rest_df['Poke'], normalize='columns').values[:,1]\n",
    "curry_vals = pd.crosstab(expanded_rest_df['stars'],expanded_rest_df['Curry Sausage'], normalize='columns').values[:,1]\n",
    "fc_vals = pd.crosstab(expanded_rest_df['stars'],expanded_rest_df['Fish & Chips'], normalize = 'columns').values[:,1]\n",
    "food_truck_vals = pd.crosstab(expanded_rest_df['stars'],expanded_rest_df['Food Trucks'], normalize = 'columns').values[:,1]\n",
    "avg_vals = pd.crosstab(expanded_rest_df['stars'],expanded_rest_df['is_open'], normalize='columns').values[:,0]\n",
    "ff_vals = pd.crosstab(expanded_rest_df['stars'],expanded_rest_df['Fast Food'],normalize='columns').values[:,1]\n",
    "bagel_vals = pd.crosstab(expanded_rest_df['stars'],expanded_rest_df['Bagels'],normalize='columns').values[:,1]\n",
    "burger_vals = pd.crosstab(expanded_rest_df['stars'],expanded_rest_df['Burgers'],normalize='columns').values[:,1]\n",
    "chickenw_vals = pd.crosstab(expanded_rest_df['stars'],expanded_rest_df['Chicken Wings'],normalize='columns').values[:,1]"
   ]
  },
  {
   "cell_type": "code",
   "execution_count": null,
   "metadata": {
    "collapsed": true
   },
   "outputs": [],
   "source": [
    "# Getting sample sizes\n",
    "cat_ss = {}\n",
    "names = ['Poke']"
   ]
  },
  {
   "cell_type": "code",
   "execution_count": 72,
   "metadata": {},
   "outputs": [
    {
     "data": {
      "image/png": "[encoded data removed]",
      "text/plain": [
       "<matplotlib.figure.Figure at 0x1a1424cfd0>"
      ]
     },
     "metadata": {},
     "output_type": "display_data"
    }
   ],
   "source": [
    "# Plotting the % rating for the top four attributes vs. the average\n",
    "\n",
    "n_groups = 9\n",
    "#ax = plt.subplots()\n",
    "fig = plt.figure(figsize = (16,8))\n",
    "index = np.arange(n_groups)\n",
    "\n",
    "bar_width = 0.15\n",
    "opacity = 0.8\n",
    "\n",
    "rects1 = plt.bar(index, avg_vals,bar_width,\n",
    "                alpha = opacity,\n",
    "                color = 'red',\n",
    "                label = 'Average')\n",
    "rects2 = plt.bar(index + bar_width, poke_vals,bar_width,\n",
    "                alpha = opacity,\n",
    "                color = 'orange',\n",
    "                label = 'Poke')\n",
    "rects3 = plt.bar(index + (2* bar_width), curry_vals,bar_width,\n",
    "                alpha = opacity,\n",
    "                color = 'brown',\n",
    "                label = 'Curry Sausage')\n",
    "rects4 = plt.bar(index + (3*bar_width), fc_vals,bar_width,\n",
    "                alpha = opacity,\n",
    "                color = 'blue',\n",
    "                label = 'Fish & Chips')\n",
    "rects5 = plt.bar(index + (4*bar_width), food_truck_vals,bar_width,\n",
    "                alpha = opacity,\n",
    "                color = 'cyan',\n",
    "                label = 'Food Truck')\n",
    "\n",
    "plt.xlabel('Rating')\n",
    "plt.ylabel('% Allocation')\n",
    "plt.title('% Allocation by Rating')\n",
    "plt.xticks(index + bar_width, ('1', '1.5', '2', '2.5','3','3.5','4','4.5','5'))\n",
    "plt.legend()\n",
    " \n",
    "plt.tight_layout()\n",
    "plt.show()"
   ]
  },
  {
   "cell_type": "code",
   "execution_count": 73,
   "metadata": {},
   "outputs": [
    {
     "data": {
      "image/png": "[encoded data removed]",
      "text/plain": [
       "<matplotlib.figure.Figure at 0x1a11228a20>"
      ]
     },
     "metadata": {},
     "output_type": "display_data"
    }
   ],
   "source": [
    "# Plotting the % rating for the bottom four attributes vs. the average\n",
    "\n",
    "n_groups = 9\n",
    "#ax = plt.subplots()\n",
    "fig = plt.figure(figsize = (16,8))\n",
    "index = np.arange(n_groups)\n",
    "\n",
    "bar_width = 0.15\n",
    "opacity = 0.8\n",
    "\n",
    "rects1 = plt.bar(index, avg_vals,bar_width,\n",
    "                alpha = opacity,\n",
    "                color = 'red',\n",
    "                label = 'Average')\n",
    "rects2 = plt.bar(index + bar_width, ff_vals,bar_width,\n",
    "                alpha = opacity,\n",
    "                color = 'orange',\n",
    "                label = 'Fast Food')\n",
    "rects3 = plt.bar(index + (2* bar_width), bagel_vals,bar_width,\n",
    "                alpha = opacity,\n",
    "                color = 'brown',\n",
    "                label = 'Bagels')\n",
    "rects4 = plt.bar(index + (3*bar_width), burger_vals,bar_width,\n",
    "                alpha = opacity,\n",
    "                color = 'blue',\n",
    "                label = 'Burgers')\n",
    "rects5 = plt.bar(index + (4*bar_width), chickenw_vals,bar_width,\n",
    "                alpha = opacity,\n",
    "                color = 'cyan',\n",
    "                label = 'Chicken Wings')\n",
    "\n",
    "plt.xlabel('Rating')\n",
    "plt.ylabel('% Allocation')\n",
    "plt.title('% Allocation by Rating')\n",
    "plt.xticks(index + bar_width, ('1', '1.5', '2', '2.5','3','3.5','4','4.5','5'))\n",
    "plt.legend()\n",
    " \n",
    "plt.tight_layout()\n",
    "plt.show()"
   ]
  },
  {
   "cell_type": "markdown",
   "metadata": {},
   "source": [
    "# TO DO: \n",
    "\n",
    "Turn star proportion vals into stacked bar charts, include sample sizes."
   ]
  },
  {
   "cell_type": "markdown",
   "metadata": {
    "collapsed": true
   },
   "source": [
    "## Interpreting Results\n",
    "Our analysis returned some interesting findings.  For example, it looks like 'Poke' restaurants have a strong relationship to higher stars.  It also looks like Food Trucks\n",
    "have been able to experience considerably favorable ratings from users.  As the correlation plot showed, Fast Food restaurants are more likely to receive lower ratings, and it also\n",
    "looks like Tex-Mex places suffer a similar fate.  Once standard error of these coefficients are calculated, we will be able make claims about our data with greater certainty.\n",
    "\n",
    "## Next Steps\n",
    "Figure out a way to calculate feature standard errors to determine feature validity (does not come standard with scikit learn libraries).  Add some visualizations and \n",
    "some crosstables (pd.crosstab). Then, look at interaction terms between top/all features when predicting stars\n",
    "\n",
    "Additional Projects w/this dataset:  Use the corpus of user reviews to determine relationship between sentiment/rating.  Could also build recommendation engine from this.\n",
    "Use text to predict age/gender.  What words/phrases are best at predicting gender/age? (Could use glmnet here)\n"
   ]
  }
 ],
 "metadata": {
  "kernelspec": {
   "display_name": "Python 3",
   "language": "python",
   "name": "python3"
  },
  "language_info": {
   "codemirror_mode": {
    "name": "ipython",
    "version": 3
   },
   "file_extension": ".py",
   "mimetype": "text/x-python",
   "name": "python",
   "nbconvert_exporter": "python",
   "pygments_lexer": "ipython3",
   "version": "3.6.3"
  }
 },
 "nbformat": 4,
 "nbformat_minor": 2
}
