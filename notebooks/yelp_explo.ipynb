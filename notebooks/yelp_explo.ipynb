{
 "cells": [
  {
   "cell_type": "code",
   "execution_count": 1,
   "metadata": {},
   "outputs": [
    {
     "data": {
      "text/plain": [
       "'\\nPotential Ideas:\\n\\n*What attributes best predict stars for restaurants?\\n*Recommendation Engine - use attributes/review sentiment/location to recommend best places based on review?\\n*Something with bitcoin adoption?\\n*Image classification/ recommendation enginge - based off of saying Y/N to X amount of images \\n(and maybe some other metadata/questions), provide top recommendations for user\\n'"
      ]
     },
     "execution_count": 1,
     "metadata": {},
     "output_type": "execute_result"
    }
   ],
   "source": [
    "'''\n",
    "Potential Ideas:\n",
    "\n",
    "*What attributes best predict stars for restaurants?\n",
    "*Recommendation Engine - use attributes/review sentiment/location to recommend best places based on review?\n",
    "*Something with bitcoin adoption?\n",
    "*Image classification/ recommendation enginge - based off of saying Y/N to X amount of images \n",
    "(and maybe some other metadata/questions), provide top recommendations for user\n",
    "'''\n",
    "## TO DO:  get rid of columns that have string in any of the column values"
   ]
  },
  {
   "cell_type": "code",
   "execution_count": null,
   "metadata": {
    "collapsed": true
   },
   "outputs": [],
   "source": [
    "'''\n",
    "Things to explore\n",
    "* What are all the different types of attributes?\n",
    "* Are different countries represented?\n",
    "* \n",
    "'''"
   ]
  },
  {
   "cell_type": "code",
   "execution_count": null,
   "metadata": {
    "collapsed": true
   },
   "outputs": [],
   "source": [
    "'''\n",
    "*Important tools\n",
    "**value_counts()\n",
    "**crosstab()\n",
    "**unique()\n",
    "'''"
   ]
  },
  {
   "cell_type": "code",
   "execution_count": 2,
   "metadata": {
    "collapsed": true
   },
   "outputs": [],
   "source": [
    "## Imports\n",
    "import pandas as pd\n",
    "import numpy as np\n",
    "import matplotlib.pyplot as plt\n",
    "import seaborn as sns\n",
    "import os\n",
    "import warnings"
   ]
  },
  {
   "cell_type": "code",
   "execution_count": 3,
   "metadata": {
    "collapsed": true
   },
   "outputs": [],
   "source": [
    "## Settings\n",
    "pd.options.display.max_columns = 50\n",
    "warnings.filterwarnings('ignore')"
   ]
  },
  {
   "cell_type": "code",
   "execution_count": 4,
   "metadata": {},
   "outputs": [
    {
     "name": "stdout",
     "output_type": "stream",
     "text": [
      "businesses done\n"
     ]
    }
   ],
   "source": [
    "## Look at businesses first\n",
    "path = os.path.expanduser('/Users/mmoesta/Documents/DA_Training/yelp/dataset/csv/')\n",
    "business_df = pd.read_csv(path + 'business.csv')\n",
    "print('businesses done')"
   ]
  },
  {
   "cell_type": "code",
   "execution_count": 5,
   "metadata": {
    "collapsed": true
   },
   "outputs": [],
   "source": [
    "##Setting indices\n",
    "business_df.set_index('business_id',inplace = True)"
   ]
  },
  {
   "cell_type": "code",
   "execution_count": 6,
   "metadata": {
    "collapsed": true
   },
   "outputs": [],
   "source": [
    "## Looking only @ restaurants\n",
    "restaurants = business_df['categories'].str.contains('Restaurants')\n",
    "food = business_df['categories'].str.contains('Food')\n",
    "restfood_df=business_df[restaurants & food]"
   ]
  },
  {
   "cell_type": "code",
   "execution_count": 7,
   "metadata": {
    "collapsed": true
   },
   "outputs": [],
   "source": [
    "## Manual categories to remove\n",
    "categoriesToRemove = ['Grocery','Drugstores','Convenience Stores','Beauty & Spas','Photography Stores & Services',\n",
    "                      'Cosmetics & Beauty Supply','Discount Store','Fashion','Department Stores','Gas Stations',\n",
    "                      'Automotive','Music & Video','Event Planning & Services','Mobile Phones','Health & Medical',\n",
    "                      'Weight Loss Centers','Home & Garden','Kitchen & Bath','Jewelry',\"Children's Clothing\",\n",
    "                      'Accessories','Home Decor','Bus Tours','Auto Glass Services','Auto Detailing',\n",
    "                      'Oil Change Stations', 'Auto Repair','Body Shops','Car Window Tinting','Car Wash',\n",
    "                      'Gluten-Free','Fitness & Instruction','Nurseries & Gardening','Wedding Planning',\n",
    "                      'Embroidery & Crochet','Dance Schools','Performing Arts',\n",
    "                      'Wholesale Stores','Tobacco Shops','Nutritionists','Hobby Shops','Pet Services',\n",
    "                      'Electronics','Plumbing','Gyms','Yoga','Walking Tours','Toy Stores','Pet Stores',\n",
    "                      'Pet Groomers','Vape Shops','Head Shops',\n",
    "                      'Souvenir Shops','Pharmacy','Appliances & Repair','Wholesalers','Party Equipment Rentals',\n",
    "                      'Tattoo','Funeral Services & Cemeteries','Sporting Goods','Dog Walkers',\n",
    "                      'Pet Boarding/Pet Sitting','Scavenger Hunts','Contractors','Trainers', \n",
    "                      'Customized Merchandise', 'Dry Cleaning & Laundry', 'Art Galleries'\n",
    "                      'Tax Law', 'Bankruptcy Law', 'Tax Services', 'Estate Planning Law', \n",
    "                      'Business Consulting', 'Lawyers', 'Pet Adoption', 'Escape Games', \n",
    "                      'Animal Shelters', 'Commercial Real Estate', 'Real Estate Agents', \n",
    "                      'Real Estate Services', 'Home Inspectors']\n",
    "\n",
    "'''I think that this removes an entire row if one of the categories in the row contains a value in categoriesToRemove\n",
    "Will have to revisit\n",
    "''' \n",
    "restfood_df = restfood_df[-restfood_df['categories'].isin(categoriesToRemove)]"
   ]
  },
  {
   "cell_type": "code",
   "execution_count": 8,
   "metadata": {
    "collapsed": true
   },
   "outputs": [],
   "source": [
    "## Function to expand attributes and categories columns into dummy columns.  Credit - nick-morgan\n",
    "#create_attributes\n",
    "\n",
    "#takes a dataframe as an input, as well as a list of columns that are dictionaries\n",
    "#takes each column that is a dictionary, and expands it into a series of dummy columns\n",
    "\n",
    "def create_attributes(df, dictList):\n",
    "    \n",
    "    for dictionaryColumn in dictList:\n",
    "        \n",
    "        #the attributes column is a string of dictionaries, so one extra step is taken to convert\n",
    "        if dictionaryColumn == 'attributes':\n",
    "            expandedColumns = df[dictionaryColumn].map(eval).apply(pd.Series)\n",
    "        else:\n",
    "            expandedColumns = df[dictionaryColumn].apply(pd.Series)\n",
    "        \n",
    "        df = pd.concat([df.drop(dictionaryColumn,axis=1), \n",
    "                   expandedColumns]\n",
    "                  ,axis=1)\n",
    "        \n",
    "        #df.fillna(value='{}',inplace=True)\n",
    "        if df.index.name != 'business_id':\n",
    "            df.set_index('business_id', inplace=True)\n",
    "    return df\n",
    "\n",
    "## Function to expand categories.  Credit - nick-morgan\n",
    "def expand_categories(df, cat_var, key):\n",
    "    all_cats = df[cat_var].str.cat(sep=', ')\n",
    "    all_cats = all_cats.replace('[', '')\n",
    "    all_cats = all_cats.replace(']', '')\n",
    "    all_cats = all_cats.replace(\"\\'\",\"\")\n",
    "    all_cats = all_cats.replace('\"','')\n",
    "    all_cats_list = all_cats.split(', ')\n",
    "    unique_cats = list(set(all_cats_list))\n",
    "    unique_cats.remove('Restaurants')\n",
    "    unique_cats.remove('Food')\n",
    "    df.reset_index(inplace=True)\n",
    "    df_cats = pd.DataFrame(index=df[key], columns=unique_cats, data=False)\n",
    "    df_out = df.merge(df_cats, how='left', left_on=key, right_index=True)\n",
    "    for cat in unique_cats:\n",
    "        df_out[cat] = df_out[cat_var].str.contains(cat)\n",
    "    if df.index.name != 'business_id':\n",
    "        df_out.set_index('business_id', inplace=True)\n",
    "    return df_out "
   ]
  },
  {
   "cell_type": "code",
   "execution_count": 9,
   "metadata": {},
   "outputs": [
    {
     "data": {
      "text/plain": [
       "Index(['Unnamed: 0', 'address', 'attributes', 'categories', 'city', 'hours',\n",
       "       'is_open', 'latitude', 'longitude', 'name', 'neighborhood',\n",
       "       'postal_code', 'review_count', 'stars', 'state'],\n",
       "      dtype='object')"
      ]
     },
     "execution_count": 9,
     "metadata": {},
     "output_type": "execute_result"
    }
   ],
   "source": [
    "restfood_df.columns"
   ]
  },
  {
   "cell_type": "code",
   "execution_count": 10,
   "metadata": {},
   "outputs": [],
   "source": [
    "attributes_df= create_attributes(restfood_df, ['attributes'])\n"
   ]
  },
  {
   "cell_type": "code",
   "execution_count": 11,
   "metadata": {},
   "outputs": [],
   "source": [
    "categories_df = expand_categories(restfood_df, 'categories', 'business_id')"
   ]
  },
  {
   "cell_type": "code",
   "execution_count": 12,
   "metadata": {},
   "outputs": [
    {
     "data": {
      "text/plain": [
       "Index(['Acai Bowls', 'Accessories', 'Active Life', 'Acupuncture',\n",
       "       'Adult Education', 'Adult Entertainment', 'Afghan', 'African',\n",
       "       'Air Duct Cleaning', 'Aircraft Repairs',\n",
       "       ...\n",
       "       'Wine & Spirits', 'Wine Bars', 'Wine Tasting Room', 'Wine Tours',\n",
       "       'Wineries', 'Womens Clothing', 'Wraps', 'Yelp Events', 'Yoga',\n",
       "       'attributes'],\n",
       "      dtype='object', length=454)"
      ]
     },
     "execution_count": 12,
     "metadata": {},
     "output_type": "execute_result"
    }
   ],
   "source": [
    "cols_to_use = categories_df.columns.difference(attributes_df.columns)\n",
    "cols_to_use"
   ]
  },
  {
   "cell_type": "code",
   "execution_count": 13,
   "metadata": {
    "collapsed": true
   },
   "outputs": [],
   "source": [
    "result_df = attributes_df.merge(categories_df[cols_to_use], how = 'inner', left_index =True, right_index = True, copy = False)"
   ]
  },
  {
   "cell_type": "code",
   "execution_count": 21,
   "metadata": {},
   "outputs": [
    {
     "name": "stdout",
     "output_type": "stream",
     "text": [
      "['hours', 'state', 'AcceptsInsurance', 'AgesAllowed', 'Alcohol', 'Ambience', 'BYOB', 'BYOBCorkage', 'BestNights', 'BikeParking', 'BusinessAcceptsBitcoin', 'BusinessAcceptsCreditCards', 'BusinessParking', 'ByAppointmentOnly', 'Caters', 'CoatCheck', 'Corkage', 'DietaryRestrictions', 'DogsAllowed', 'DriveThru', 'GoodForDancing', 'GoodForKids', 'GoodForMeal', 'HairSpecializesIn', 'HappyHour', 'HasTV', 'Music', 'NoiseLevel', 'Open24Hours', 'OutdoorSeating', 'RestaurantsAttire', 'RestaurantsCounterService', 'RestaurantsDelivery', 'RestaurantsGoodForGroups', 'RestaurantsReservations', 'RestaurantsTableService', 'RestaurantsTakeOut', 'Smoking', 'WheelchairAccessible', 'WiFi']\n"
     ]
    }
   ],
   "source": [
    "result_df.drop(['categories','attributes','address','city','name','neighborhood','postal_code'],\n",
    "                                  axis=1,inplace=True)\n",
    "att_to_expand = []\n",
    "for i in range(len(result_df.columns.values)):\n",
    "    if result_df[result_df.columns.values[i]].dtype == 'O':\n",
    "            att_to_expand.append(result_df.columns.values[i])         \n",
    "print(att_to_expand)"
   ]
  },
  {
   "cell_type": "code",
   "execution_count": 22,
   "metadata": {},
   "outputs": [],
   "source": [
    "expanded_rest_df = create_attributes(result_df,att_to_expand)"
   ]
  },
  {
   "cell_type": "code",
   "execution_count": 45,
   "metadata": {},
   "outputs": [],
   "source": [
    "## Some columns were nested objects, have to expand again\n",
    "att_to_expand = []\n",
    "for i in expanded_rest_df.columns.values:\n",
    "    if expanded_rest_df[i].dtype=='O':\n",
    "        att_to_expand.append(i)\n",
    "expanded_rest_df = create_attributes(expanded_rest_df,att_to_expand)"
   ]
  },
  {
   "cell_type": "code",
   "execution_count": 48,
   "metadata": {},
   "outputs": [
    {
     "data": {
      "text/plain": [
       "1    12867\n",
       "Name: is_open, dtype: int64"
      ]
     },
     "execution_count": 48,
     "metadata": {},
     "output_type": "execute_result"
    }
   ],
   "source": [
    "## Getting rid of all restaurants that are no longer open\n",
    "expanded_rest_df= expanded_rest_df[expanded_rest_df['is_open'] != 0]\n",
    "expanded_rest_df['is_open'].value_counts()"
   ]
  },
  {
   "cell_type": "code",
   "execution_count": 49,
   "metadata": {
    "scrolled": false
   },
   "outputs": [],
   "source": [
    "expanded_rest_df.fillna(value = 0, inplace =True)"
   ]
  },
  {
   "cell_type": "code",
   "execution_count": 50,
   "metadata": {},
   "outputs": [],
   "source": [
    "expanded_rest_df.drop(labels = [0,0,0,0,0,0,0,0,0,0,0,0],axis=1,inplace=True)"
   ]
  },
  {
   "cell_type": "code",
   "execution_count": 73,
   "metadata": {},
   "outputs": [],
   "source": [
    "## random forest\n",
    "from sklearn.ensemble import RandomForestClassifier\n",
    "from sklearn.model_selection import train_test_split\n",
    "from sklearn import preprocessing\n",
    "from sklearn import utils"
   ]
  },
  {
   "cell_type": "code",
   "execution_count": 74,
   "metadata": {},
   "outputs": [],
   "source": [
    "y = expanded_rest_df['stars']\n",
    "X = expanded_rest_df.drop(labels=['stars'], axis=1)"
   ]
  },
  {
   "cell_type": "code",
   "execution_count": 87,
   "metadata": {
    "collapsed": true
   },
   "outputs": [],
   "source": [
    "lab_enc = preprocessing.LabelEncoder()\n",
    "y_encoded = lab_enc.fit_transform(y)"
   ]
  },
  {
   "cell_type": "code",
   "execution_count": 88,
   "metadata": {},
   "outputs": [],
   "source": [
    "X_mat = X.as_matrix()"
   ]
  },
  {
   "cell_type": "code",
   "execution_count": 90,
   "metadata": {
    "scrolled": false
   },
   "outputs": [],
   "source": [
    "X_train,X_test,y_train,y_test = train_test_split(X_mat,y_encoded, test_size=0.3)"
   ]
  },
  {
   "cell_type": "code",
   "execution_count": 91,
   "metadata": {
    "collapsed": true
   },
   "outputs": [],
   "source": [
    "clf = RandomForestClassifier(bootstrap=False)"
   ]
  },
  {
   "cell_type": "code",
   "execution_count": 92,
   "metadata": {},
   "outputs": [
    {
     "data": {
      "text/plain": [
       "RandomForestClassifier(bootstrap=False, class_weight=None, criterion='gini',\n",
       "            max_depth=None, max_features='auto', max_leaf_nodes=None,\n",
       "            min_impurity_decrease=0.0, min_impurity_split=None,\n",
       "            min_samples_leaf=1, min_samples_split=2,\n",
       "            min_weight_fraction_leaf=0.0, n_estimators=10, n_jobs=1,\n",
       "            oob_score=False, random_state=None, verbose=0,\n",
       "            warm_start=False)"
      ]
     },
     "execution_count": 92,
     "metadata": {},
     "output_type": "execute_result"
    }
   ],
   "source": [
    "clf.fit(X_train,y_train)"
   ]
  },
  {
   "cell_type": "code",
   "execution_count": null,
   "metadata": {
    "collapsed": true
   },
   "outputs": [],
   "source": [
    "'''\n",
    "APPENDIX\n",
    "\n",
    "Correlation table\n",
    "sns.set(style=\"white\")\n",
    "# Compute the correlation matrix\n",
    "hist_corr = attributes_df\n",
    "corr = hist_corr.corr()\n",
    "\n",
    "# Generate a mask for the upper triangle\n",
    "mask = np.zeros_like(corr, dtype=np.bool)\n",
    "mask[np.triu_indices_from(mask)] = True\n",
    "\n",
    "# Set up the matplotlib figure\n",
    "f, ax = plt.subplots(figsize=(11, 9))\n",
    "\n",
    "# Generate a custom diverging colormap\n",
    "cmap = sns.diverging_palette(10, 220, as_cmap=True)\n",
    "\n",
    "# Draw the heatmap with the mask and correct aspect ratio\n",
    "sns.heatmap(corr, mask=mask, cmap=cmap, vmax=.3, center=0,\n",
    "            square=True, linewidths=.5, cbar_kws={\"shrink\": .5})\n",
    "\n",
    "plt.show()\n",
    "'''"
   ]
  }
 ],
 "metadata": {
  "kernelspec": {
   "display_name": "Python 3",
   "language": "python",
   "name": "python3"
  },
  "language_info": {
   "codemirror_mode": {
    "name": "ipython",
    "version": 3
   },
   "file_extension": ".py",
   "mimetype": "text/x-python",
   "name": "python",
   "nbconvert_exporter": "python",
   "pygments_lexer": "ipython3",
   "version": "3.6.3"
  }
 },
 "nbformat": 4,
 "nbformat_minor": 2
}
