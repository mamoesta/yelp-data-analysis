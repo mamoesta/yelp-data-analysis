{
 "cells": [
  {
   "cell_type": "code",
   "execution_count": null,
   "metadata": {
    "collapsed": true
   },
   "outputs": [],
   "source": [
    "'''\n",
    "The purpose of this exercise is to explore data provided by Yelp, the reviewing engine.  The businesses dataset used here contains information about businesses reviewed on yelp.\n",
    "I employ a number of machine learning and statistical prediction methods in order to identify attributes of a restaurant that can help predict it's rating.  This exercise\n",
    "is NOT intended to \n",
    "'''"
   ]
  },
  {
   "cell_type": "code",
   "execution_count": 2,
   "metadata": {
    "collapsed": true
   },
   "outputs": [],
   "source": [
    "\n",
    "## Imports\n",
    "import pandas as pd\n",
    "import numpy as np\n",
    "import matplotlib.pyplot as plt\n",
    "from matplotlib import figure\n",
    "import seaborn as sns\n",
    "import os\n",
    "import warnings"
   ]
  },
  {
   "cell_type": "code",
   "execution_count": 3,
   "metadata": {},
   "outputs": [
    {
     "data": {
      "text/html": [
       "<style>.container { width:100% !important; }</style>"
      ],
      "text/plain": [
       "<IPython.core.display.HTML object>"
      ]
     },
     "metadata": {},
     "output_type": "display_data"
    }
   ],
   "source": [
    "# Jupyter setup to expand cell display to 100% width on your screen (optional), and print more columns and ignore WARNINGS\n",
    "from IPython.core.display import display, HTML\n",
    "display(HTML(\"<style>.container { width:100% !important; }</style>\"))\n",
    "## Settings\n",
    "pd.options.display.max_columns = 50\n",
    "warnings.filterwarnings('ignore')"
   ]
  },
  {
   "cell_type": "code",
   "execution_count": 4,
   "metadata": {},
   "outputs": [
    {
     "name": "stdout",
     "output_type": "stream",
     "text": [
      "businesses done\n"
     ]
    }
   ],
   "source": [
    "## Look at businesses first\n",
    "path = os.path.expanduser('/Users/mmoesta/Documents/DA_Training/yelp_data_analysis/dataset/csv/')\n",
    "business_df = pd.read_csv(path + 'business.csv')\n",
    "print('businesses done')\n",
    "##Setting indices\n",
    "business_df.set_index('business_id',inplace = True)"
   ]
  },
  {
   "cell_type": "code",
   "execution_count": 5,
   "metadata": {
    "collapsed": true
   },
   "outputs": [],
   "source": [
    "## Looking only @ restaurants\n",
    "restaurants = business_df['categories'].str.contains('Restaurants')\n",
    "food = business_df['categories'].str.contains('Food')\n",
    "restfood_df=business_df[restaurants & food]"
   ]
  },
  {
   "cell_type": "code",
   "execution_count": 6,
   "metadata": {
    "collapsed": true
   },
   "outputs": [],
   "source": [
    "## Manual categories to remove\n",
    "categoriesToRemove = ['Grocery','Drugstores','Convenience Stores','Beauty & Spas','Photography Stores & Services',\n",
    "                      'Cosmetics & Beauty Supply','Discount Store','Fashion','Department Stores','Gas Stations',\n",
    "                      'Automotive','Music & Video','Event Planning & Services','Mobile Phones','Health & Medical',\n",
    "                      'Weight Loss Centers','Home & Garden','Kitchen & Bath','Jewelry',\"Children's Clothing\",\n",
    "                      'Accessories','Home Decor','Bus Tours','Auto Glass Services','Auto Detailing',\n",
    "                      'Oil Change Stations', 'Auto Repair','Body Shops','Car Window Tinting','Car Wash',\n",
    "                      'Gluten-Free','Fitness & Instruction','Nurseries & Gardening','Wedding Planning',\n",
    "                      'Embroidery & Crochet','Dance Schools','Performing Arts',\n",
    "                      'Wholesale Stores','Tobacco Shops','Nutritionists','Hobby Shops','Pet Services',\n",
    "                      'Electronics','Plumbing','Gyms','Yoga','Walking Tours','Toy Stores','Pet Stores',\n",
    "                      'Pet Groomers','Vape Shops','Head Shops',\n",
    "                      'Souvenir Shops','Pharmacy','Appliances & Repair','Wholesalers','Party Equipment Rentals',\n",
    "                      'Tattoo','Funeral Services & Cemeteries','Sporting Goods','Dog Walkers',\n",
    "                      'Pet Boarding/Pet Sitting','Scavenger Hunts','Contractors','Trainers', \n",
    "                      'Customized Merchandise', 'Dry Cleaning & Laundry', 'Art Galleries'\n",
    "                      'Tax Law', 'Bankruptcy Law', 'Tax Services', 'Estate Planning Law', \n",
    "                      'Business Consulting', 'Lawyers', 'Pet Adoption', 'Escape Games', \n",
    "                      'Animal Shelters', 'Commercial Real Estate', 'Real Estate Agents', \n",
    "                      'Real Estate Services', 'Home Inspectors']\n",
    "\n",
    "'''I think that this removes an entire row if one of the categories in the row contains a value in categoriesToRemove\n",
    "will have to revisit\n",
    "''' \n",
    "restfood_df = restfood_df[-restfood_df['categories'].isin(categoriesToRemove)]"
   ]
  },
  {
   "cell_type": "code",
   "execution_count": 7,
   "metadata": {
    "collapsed": true
   },
   "outputs": [],
   "source": [
    "## Function to expand attributes and categories columns into dummy columns.  Credit - nick-morgan\n",
    "#create_attributes\n",
    "\n",
    "#takes a dataframe as an input, as well as a list of columns that are dictionaries\n",
    "#takes each column that is a dictionary, and expands it into a series of dummy columns\n",
    "\n",
    "def create_attributes(df, dictList):\n",
    "    \n",
    "    for dictionaryColumn in dictList:\n",
    "        \n",
    "        #the attributes column is a string of dictionaries, so one extra step is taken to convert\n",
    "        if dictionaryColumn == 'attributes':\n",
    "            expandedColumns = df[dictionaryColumn].map(eval).apply(pd.Series)\n",
    "        else:\n",
    "            expandedColumns = df[dictionaryColumn].apply(pd.Series)\n",
    "        \n",
    "        df = pd.concat([df.drop(dictionaryColumn,axis=1), \n",
    "                   expandedColumns]\n",
    "                  ,axis=1)\n",
    "        \n",
    "        #df.fillna(value='{}',inplace=True)\n",
    "        if df.index.name != 'business_id':\n",
    "            df.set_index('business_id', inplace=True)\n",
    "    return df\n",
    "\n",
    "## Function to expand categories.  Credit - nick-morgan\n",
    "def expand_categories(df, cat_var, key):\n",
    "    all_cats = df[cat_var].str.cat(sep=', ')\n",
    "    all_cats = all_cats.replace('[', '')\n",
    "    all_cats = all_cats.replace(']', '')\n",
    "    all_cats = all_cats.replace(\"\\'\",\"\")\n",
    "    all_cats = all_cats.replace('\"','')\n",
    "    all_cats_list = all_cats.split(', ')\n",
    "    unique_cats = list(set(all_cats_list))\n",
    "    unique_cats.remove('Restaurants')\n",
    "    unique_cats.remove('Food')\n",
    "    df.reset_index(inplace=True)\n",
    "    df_cats = pd.DataFrame(index=df[key], columns=unique_cats, data=False)\n",
    "    df_out = df.merge(df_cats, how='left', left_on=key, right_index=True)\n",
    "    for cat in unique_cats:\n",
    "        df_out[cat] = df_out[cat_var].str.contains(cat)\n",
    "    if df.index.name != 'business_id':\n",
    "        df_out.set_index('business_id', inplace=True)\n",
    "    return df_out "
   ]
  },
  {
   "cell_type": "code",
   "execution_count": 8,
   "metadata": {
    "collapsed": true
   },
   "outputs": [],
   "source": [
    "attributes_df= create_attributes(restfood_df, ['attributes'])"
   ]
  },
  {
   "cell_type": "code",
   "execution_count": 9,
   "metadata": {
    "collapsed": true
   },
   "outputs": [],
   "source": [
    "categories_df = expand_categories(restfood_df, 'categories', 'business_id')"
   ]
  },
  {
   "cell_type": "code",
   "execution_count": 10,
   "metadata": {
    "collapsed": true
   },
   "outputs": [],
   "source": [
    "cols_to_use = categories_df.columns.difference(attributes_df.columns)\n",
    "result_df = attributes_df.merge(categories_df[cols_to_use], how = 'inner', left_index =True, right_index = True, copy = False)"
   ]
  },
  {
   "cell_type": "code",
   "execution_count": 11,
   "metadata": {
    "collapsed": true
   },
   "outputs": [],
   "source": [
    "result_df.drop(['categories','attributes','address','city','name','neighborhood','postal_code'],\n",
    "                                  axis=1,inplace=True)\n",
    "att_to_expand = []\n",
    "for i in range(len(result_df.columns.values)):\n",
    "    if result_df[result_df.columns.values[i]].dtype == 'O':\n",
    "            att_to_expand.append(result_df.columns.values[i])         \n",
    "#print(att_to_expand)"
   ]
  },
  {
   "cell_type": "code",
   "execution_count": 12,
   "metadata": {
    "collapsed": true
   },
   "outputs": [],
   "source": [
    "expanded_rest_df = create_attributes(result_df,att_to_expand)"
   ]
  },
  {
   "cell_type": "code",
   "execution_count": 14,
   "metadata": {},
   "outputs": [
    {
     "data": {
      "text/plain": [
       "1    12867\n",
       "Name: is_open, dtype: int64"
      ]
     },
     "execution_count": 14,
     "metadata": {},
     "output_type": "execute_result"
    }
   ],
   "source": [
    "## Getting rid of all restaurants that are no longer open\n",
    "expanded_rest_df= expanded_rest_df[expanded_rest_df['is_open'] != 0]\n",
    "expanded_rest_df['is_open'].value_counts()"
   ]
  },
  {
   "cell_type": "code",
   "execution_count": 15,
   "metadata": {
    "collapsed": true,
    "scrolled": false
   },
   "outputs": [],
   "source": [
    "## Fill NA values with zeroes\n",
    "expanded_rest_df.fillna(value = 0, inplace =True)"
   ]
  },
  {
   "cell_type": "code",
   "execution_count": 16,
   "metadata": {
    "collapsed": true
   },
   "outputs": [],
   "source": [
    "## Drop any unnamed columns:  This means they didn't have a name when columns were expanded, would not be useful to our analysis\n",
    "unnamed_cols = [0] * 40\n",
    "expanded_rest_df.drop(labels = unnamed_cols,axis=1,inplace=True)"
   ]
  },
  {
   "cell_type": "code",
   "execution_count": 17,
   "metadata": {
    "collapsed": true
   },
   "outputs": [],
   "source": [
    "## Transforming DataFrame to arrays for sklearn analysis\n",
    "y = expanded_rest_df['stars']\n",
    "X = expanded_rest_df.drop(labels=['stars','Unnamed: 0', 'is_open','latitude','longitude','review_count'], axis=1)"
   ]
  },
  {
   "cell_type": "code",
   "execution_count": 18,
   "metadata": {
    "collapsed": true
   },
   "outputs": [],
   "source": [
    "## We can use PCA to determine problem complexity, maybe reduce dimensionality.\n",
    "from sklearn.decomposition import PCA"
   ]
  },
  {
   "cell_type": "code",
   "execution_count": 19,
   "metadata": {},
   "outputs": [
    {
     "name": "stdout",
     "output_type": "stream",
     "text": [
      "Variance explained by first 20 components:  [ 0.13453425  0.08982583  0.06336562  0.04400319  0.03762024  0.03580554\n",
      "  0.03384686  0.02448971  0.02333514  0.02014179  0.01917077  0.01755161\n",
      "  0.01664156  0.01632004  0.01537028  0.01507873  0.014052    0.01315465\n",
      "  0.0127286   0.01246621]\n",
      "Total  % variance explained by first 20 components:  0.65950263603\n"
     ]
    }
   ],
   "source": [
    "pca = PCA()\n",
    "pca.fit(X,y)\n",
    "print('Variance explained by first 20 components:  ' + str(pca.explained_variance_ratio_[:20]))\n",
    "print('Total  % variance explained by first 20 components:  ' + str(sum(pca.explained_variance_ratio_[:20])))"
   ]
  },
  {
   "cell_type": "code",
   "execution_count": 20,
   "metadata": {
    "collapsed": true
   },
   "outputs": [],
   "source": [
    "## Basic random forest classifier.  It might be funky with so many dimensions, we will have to see.\n",
    "from sklearn.ensemble import RandomForestClassifier\n",
    "from sklearn.model_selection import train_test_split\n",
    "from sklearn import preprocessing\n",
    "from sklearn import utils"
   ]
  },
  {
   "cell_type": "code",
   "execution_count": 21,
   "metadata": {
    "collapsed": true
   },
   "outputs": [],
   "source": [
    "## Have to encode the predictor variable to binary in order to run RF\n",
    "lab_enc = preprocessing.LabelEncoder()\n",
    "y_encoded = lab_enc.fit_transform(y)"
   ]
  },
  {
   "cell_type": "code",
   "execution_count": 22,
   "metadata": {
    "collapsed": true
   },
   "outputs": [],
   "source": [
    "X_mat = X.as_matrix()\n",
    "X_train,X_test,y_train,y_test = train_test_split(X_mat,y_encoded, test_size=0.3)\n",
    "clf = RandomForestClassifier()"
   ]
  },
  {
   "cell_type": "code",
   "execution_count": 25,
   "metadata": {},
   "outputs": [
    {
     "data": {
      "text/plain": [
       "RandomForestClassifier(bootstrap=True, class_weight=None, criterion='gini',\n",
       "            max_depth=None, max_features='auto', max_leaf_nodes=None,\n",
       "            min_impurity_decrease=0.0, min_impurity_split=None,\n",
       "            min_samples_leaf=1, min_samples_split=2,\n",
       "            min_weight_fraction_leaf=0.0, n_estimators=10, n_jobs=1,\n",
       "            oob_score=False, random_state=None, verbose=0,\n",
       "            warm_start=False)"
      ]
     },
     "execution_count": 25,
     "metadata": {},
     "output_type": "execute_result"
    }
   ],
   "source": [
    "clf.fit(X_train,y_train)"
   ]
  },
  {
   "cell_type": "code",
   "execution_count": 26,
   "metadata": {},
   "outputs": [
    {
     "data": {
      "text/plain": [
       "0.75105485232067515"
      ]
     },
     "execution_count": 26,
     "metadata": {},
     "output_type": "execute_result"
    }
   ],
   "source": [
    "## Wow, looks pretty good!\n",
    "clf.score(X_train,y_train)"
   ]
  },
  {
   "cell_type": "code",
   "execution_count": 27,
   "metadata": {},
   "outputs": [
    {
     "data": {
      "text/plain": [
       "0.25097125097125095"
      ]
     },
     "execution_count": 27,
     "metadata": {},
     "output_type": "execute_result"
    }
   ],
   "source": [
    "## Nevermind, some serious overfitting going on here.  Model is detecting patterns that don't exist in test data.\n",
    "clf.score(X_test,y_test)"
   ]
  },
  {
   "cell_type": "code",
   "execution_count": 28,
   "metadata": {},
   "outputs": [
    {
     "name": "stdout",
     "output_type": "stream",
     "text": [
      "The most important features are:  ['RestaurantsPriceRange2' 'Sandwiches' 'Fast Food' 'lot' 'casual'\n",
      " 'breakfast' 'lunch' 'street' 'Breakfast & Brunch' 'Coffee & Tea' 'dinner'\n",
      " 'Burgers' 'brunch' 'Desserts' 'dessert']\n"
     ]
    },
    {
     "data": {
      "image/png": "[encoded data removed]",
      "text/plain": [
       "<matplotlib.figure.Figure at 0x1a14276438>"
      ]
     },
     "metadata": {},
     "output_type": "display_data"
    }
   ],
   "source": [
    "## Okay, so we won't use random forest here, but maybe we can look @ feature importances for some clues\n",
    "feat_index = list(np.where(clf.feature_importances_ > .015)[0])\n",
    "feat_vals = clf.feature_importances_[feat_index]\n",
    "feat_names = X.columns.values[feat_index]\n",
    "clf_df = pd.DataFrame({\n",
    "    'feat_names': feat_names,\n",
    "    'feat_index':feat_index,\n",
    "    'feat_vals':feat_vals\n",
    "})\n",
    "clf_df.sort_values(by=\"feat_vals\",ascending=False,inplace=True)\n",
    "print('The most important features are:  ' + str(clf_df['feat_names'].values))\n",
    "clf_df.set_index('feat_names',inplace=True)\n",
    "class_graph = (clf_df['feat_vals']\n",
    " .plot.barh()\n",
    " .set_title('Feature Importances')\n",
    ")\n",
    "plt.show()"
   ]
  },
  {
   "cell_type": "code",
   "execution_count": 29,
   "metadata": {
    "collapsed": true
   },
   "outputs": [],
   "source": [
    "## Maybe if we try the random forest regressor...\n",
    "from sklearn.ensemble import RandomForestRegressor"
   ]
  },
  {
   "cell_type": "code",
   "execution_count": 30,
   "metadata": {},
   "outputs": [
    {
     "data": {
      "text/plain": [
       "RandomForestRegressor(bootstrap=True, criterion='mse', max_depth=None,\n",
       "           max_features='auto', max_leaf_nodes=None,\n",
       "           min_impurity_decrease=0.0, min_impurity_split=None,\n",
       "           min_samples_leaf=1, min_samples_split=2,\n",
       "           min_weight_fraction_leaf=0.0, n_estimators=10, n_jobs=1,\n",
       "           oob_score=False, random_state=None, verbose=0, warm_start=False)"
      ]
     },
     "execution_count": 30,
     "metadata": {},
     "output_type": "execute_result"
    }
   ],
   "source": [
    "regr = RandomForestRegressor()\n",
    "regr.fit(X_train,y_train)"
   ]
  },
  {
   "cell_type": "code",
   "execution_count": 31,
   "metadata": {},
   "outputs": [
    {
     "name": "stdout",
     "output_type": "stream",
     "text": [
      "Score of regressor on training:  0.674564018648\n",
      "Score of regressor on test:  0.259506751969\n"
     ]
    }
   ],
   "source": [
    "print('Score of regressor on training:  ' + str(regr.score(X_train,y_train)))\n",
    "## Still pretty bad\n",
    "print('Score of regressor on test:  ' + str(regr.score(X_test,y_test)))"
   ]
  },
  {
   "cell_type": "code",
   "execution_count": 32,
   "metadata": {},
   "outputs": [
    {
     "name": "stdout",
     "output_type": "stream",
     "text": [
      "The most important features are:  ['Fast Food' 'lunch' 'RestaurantsPriceRange2' 'Burgers' 'casual'\n",
      " 'Sandwiches' 'lot' 'street' 'breakfast' 'Chicken Wings' 'Coffee & Tea'\n",
      " 'Breakfast & Brunch' 'Delis' 'Pizza' 'brunch' 'Cafes' 'Chinese' 'dinner'\n",
      " 'Bakeries' 'Desserts']\n"
     ]
    },
    {
     "data": {
      "image/png": "[encoded data removed]",
      "text/plain": [
       "<matplotlib.figure.Figure at 0x1a1529e518>"
      ]
     },
     "metadata": {},
     "output_type": "display_data"
    },
    {
     "name": "stdout",
     "output_type": "stream",
     "text": [
      "The most important features are:  ['RestaurantsPriceRange2' 'Bakeries' 'Breakfast & Brunch' 'Burgers' 'Cafes'\n",
      " 'Chicken Wings' 'Chinese' 'Coffee & Tea' 'Delis' 'Desserts' 'Fast Food'\n",
      " 'Pizza' 'Sandwiches' 'casual' 'lot' 'street' 'breakfast' 'brunch' 'dinner'\n",
      " 'lunch']\n"
     ]
    }
   ],
   "source": [
    "# Let's look at feature importances for regressor\n",
    "r_feat_index = list(np.where(regr.feature_importances_ > .01)[0])\n",
    "r_feat_vals = regr.feature_importances_[r_feat_index]\n",
    "r_feat_names = X.columns.values[r_feat_index]\n",
    "regr_df = pd.DataFrame({\n",
    "    'feat_names': r_feat_names,\n",
    "    'feat_index': r_feat_index,\n",
    "    'feat_vals': r_feat_vals\n",
    "})\n",
    "regr_df.sort_values(by=\"feat_vals\",ascending=False,inplace=True)\n",
    "print('The most important features are:  ' + str(regr_df['feat_names'].values))\n",
    "regr_df.set_index('feat_names',inplace=True)\n",
    "class_graph = (regr_df['feat_vals']\n",
    " .plot.barh()\n",
    " .set_title('Feature Importances')\n",
    ")\n",
    "plt.show()\n",
    "print('The most important features are:  ' + str(r_feat_names))"
   ]
  },
  {
   "cell_type": "code",
   "execution_count": 33,
   "metadata": {
    "collapsed": true
   },
   "outputs": [],
   "source": [
    "corr_feats = list(clf_df.index.values)\n",
    "corr_feats.append('stars')\n",
    "corr_df = expanded_rest_df[corr_feats]"
   ]
  },
  {
   "cell_type": "code",
   "execution_count": 34,
   "metadata": {},
   "outputs": [
    {
     "data": {
      "image/png": "[encoded data removed]",
      "text/plain": [
       "<matplotlib.figure.Figure at 0x1a1501d860>"
      ]
     },
     "metadata": {},
     "output_type": "display_data"
    }
   ],
   "source": [
    "'''\n",
    "Visual representation of correlations via correlation table.  Use the features that are most important from RF to look at their relationship to 'stars' and any\n",
    "indication to colinearity.\n",
    "We will also look at eigenvalues to get a better idea.\n",
    "'''\n",
    "\n",
    "sns.set(style=\"white\")\n",
    "# Compute the correlation matrix\n",
    "hist_corr = corr_df\n",
    "corr = hist_corr.corr()\n",
    "\n",
    "# Generate a mask for the upper triangle\n",
    "mask = np.zeros_like(corr, dtype=np.bool)\n",
    "mask[np.triu_indices_from(mask)] = True\n",
    "\n",
    "# Set up the matplotlib figure\n",
    "f, ax = plt.subplots(figsize=(15, 11))\n",
    "\n",
    "# Generate a custom diverging colormap\n",
    "cmap = sns.diverging_palette(10, 220, as_cmap=True)\n",
    "\n",
    "# Draw the heatmap with the mask and correct aspect ratio\n",
    "sns.heatmap(corr, mask=mask, cmap=cmap, vmax=.3, center=0,\n",
    "            square=True, linewidths=.5, cbar_kws={\"shrink\": .5})\n",
    "\n",
    "\n",
    "plt.show()"
   ]
  },
  {
   "cell_type": "code",
   "execution_count": 35,
   "metadata": {},
   "outputs": [
    {
     "name": "stdout",
     "output_type": "stream",
     "text": [
      "[ 2.98381773  2.05990023  1.71895703  1.15754167  1.07362829  0.96012921\n",
      "  0.85428243  0.36694934  0.80211964  0.76137534  0.43869863  0.47214986\n",
      "  0.50097089  0.6576685   0.63004465  0.56176655]\n",
      "[False False False False False False False False False False False False\n",
      " False False False False]\n"
     ]
    },
    {
     "data": {
      "text/plain": [
       "array(['RestaurantsPriceRange2', 'Sandwiches', 'Fast Food', 'lot',\n",
       "       'casual', 'breakfast', 'lunch', 'street', 'Breakfast & Brunch',\n",
       "       'Coffee & Tea', 'dinner', 'Burgers', 'brunch', 'Desserts', 'dessert'], dtype=object)"
      ]
     },
     "execution_count": 35,
     "metadata": {},
     "output_type": "execute_result"
    }
   ],
   "source": [
    "'''\n",
    "Doesn't look like any eigenvalues are too close to zero, so we don't have to be too concerned about colinearity when making our final insights.\n",
    "'''\n",
    "corr_mat = corr_df.as_matrix().astype(np.float64)\n",
    "corr_cof = np.corrcoef(corr_mat,rowvar = 0)\n",
    "w, v = np.linalg.eig(corr_cof)\n",
    "print(w)\n",
    "print(abs(w)<0.01)\n",
    "corr_df.columns.values[:-1]"
   ]
  },
  {
   "cell_type": "code",
   "execution_count": 37,
   "metadata": {
    "collapsed": true
   },
   "outputs": [],
   "source": [
    "'''\n",
    "Since RF didn't work out so well.  Lets try and use GB method.  Gradient Boosting is an iteration of RF that weights subsets of weak learners in order to gather a more complete\n",
    "subset of weak learners.\n",
    "'''\n",
    "from sklearn.ensemble import GradientBoostingRegressor"
   ]
  },
  {
   "cell_type": "code",
   "execution_count": 38,
   "metadata": {},
   "outputs": [
    {
     "data": {
      "text/plain": [
       "GradientBoostingRegressor(alpha=0.9, criterion='friedman_mse', init=None,\n",
       "             learning_rate=0.1, loss='ls', max_depth=3, max_features=None,\n",
       "             max_leaf_nodes=None, min_impurity_decrease=0.0,\n",
       "             min_impurity_split=None, min_samples_leaf=1,\n",
       "             min_samples_split=2, min_weight_fraction_leaf=0.0,\n",
       "             n_estimators=100, presort='auto', random_state=None,\n",
       "             subsample=1.0, verbose=0, warm_start=False)"
      ]
     },
     "execution_count": 38,
     "metadata": {},
     "output_type": "execute_result"
    }
   ],
   "source": [
    "gbr = GradientBoostingRegressor()\n",
    "gbr.fit(X_train,y_train)"
   ]
  },
  {
   "cell_type": "code",
   "execution_count": 50,
   "metadata": {},
   "outputs": [
    {
     "name": "stdout",
     "output_type": "stream",
     "text": [
      "0.375325452131\n",
      "0.345059615307\n"
     ]
    }
   ],
   "source": [
    "'''\n",
    "Random forest pointed us in the right direction, and we were able to figure out that there was little to no multicolinearity among the top predictors.  In order to further iterate,\n",
    "I'm going to look at the gradient boosted classifier method, which is more robust with high dimensional data and more impervious to overfitting (which we experienced big time with\n",
    "the random forest).  I plan on comparing the top feature from GB with RF, and deciding on a set of features to use in an ordinal LAD regression.  From that\n",
    "regresssion, we will be able to draw out important and actionable insights regarding attributes and their relationship to stars.\n",
    "'''\n",
    "\n",
    "print(gbr.score(X_train,y_train))\n",
    "print(gbr.score(X_test,y_test))\n",
    "gbr_index = np.where(gbr.feature_importances_ > .01)[0]\n",
    "gbr_names = list(X.columns.values[gbr_index])"
   ]
  },
  {
   "cell_type": "code",
   "execution_count": 60,
   "metadata": {},
   "outputs": [],
   "source": [
    "gbr_df = X[gbr_names]\n",
    "gbr_X = gbr_df.as_matrix()"
   ]
  },
  {
   "cell_type": "code",
   "execution_count": 61,
   "metadata": {},
   "outputs": [],
   "source": [
    "gbr_X_train,gbr_X_test,gbr_y_train,gbr_y_test = train_test_split(gbr_X,y ,test_size=0.3)"
   ]
  },
  {
   "cell_type": "code",
   "execution_count": 43,
   "metadata": {},
   "outputs": [],
   "source": [
    "'''\n",
    "The mord python package uses the scikit learn API to create various statistical methods for ordinal data (what we have here).  We will use the the ordinal Least Absolute Deviance\n",
    "(LAD) regression here.  This regression was primarily chosse because it uses the L1 norm for error, which puts an emphasis on feature selection, but may leave us vulnerable if any\n",
    "of the predictors happened to be multicollinear.  But since we already confirmed no multicollinearity, we are able use this method confidently.\n",
    "'''\n",
    "from mord.regression_based import LAD"
   ]
  },
  {
   "cell_type": "code",
   "execution_count": 136,
   "metadata": {},
   "outputs": [
    {
     "name": "stdout",
     "output_type": "stream",
     "text": [
      "[LibLinear]"
     ]
    },
    {
     "data": {
      "text/plain": [
       "LAD(C=1.0, dual=True, epsilon=0.0, fit_intercept=True, intercept_scaling=1.0,\n",
       "  loss='epsilon_insensitive', max_iter=1000, random_state=None, tol=0.0001,\n",
       "  verbose=1)"
      ]
     },
     "execution_count": 136,
     "metadata": {},
     "output_type": "execute_result"
    }
   ],
   "source": [
    "lad_train = LAD(verbose=1)\n",
    "lad_train.fit(gbr_X_train,gbr_y_train)"
   ]
  },
  {
   "cell_type": "code",
   "execution_count": 138,
   "metadata": {},
   "outputs": [
    {
     "data": {
      "text/html": [
       "<div>\n",
       "<style>\n",
       "    .dataframe thead tr:only-child th {\n",
       "        text-align: right;\n",
       "    }\n",
       "\n",
       "    .dataframe thead th {\n",
       "        text-align: left;\n",
       "    }\n",
       "\n",
       "    .dataframe tbody tr th {\n",
       "        vertical-align: top;\n",
       "    }\n",
       "</style>\n",
       "<table border=\"1\" class=\"dataframe\">\n",
       "  <thead>\n",
       "    <tr style=\"text-align: right;\">\n",
       "      <th></th>\n",
       "      <th>name</th>\n",
       "      <th>value</th>\n",
       "    </tr>\n",
       "  </thead>\n",
       "  <tbody>\n",
       "    <tr>\n",
       "      <th>24</th>\n",
       "      <td>Poke</td>\n",
       "      <td>0.642320</td>\n",
       "    </tr>\n",
       "    <tr>\n",
       "      <th>17</th>\n",
       "      <td>Fish &amp; Chips</td>\n",
       "      <td>0.500114</td>\n",
       "    </tr>\n",
       "    <tr>\n",
       "      <th>19</th>\n",
       "      <td>Food Trucks</td>\n",
       "      <td>0.493154</td>\n",
       "    </tr>\n",
       "    <tr>\n",
       "      <th>12</th>\n",
       "      <td>Convenience Stores</td>\n",
       "      <td>0.439986</td>\n",
       "    </tr>\n",
       "    <tr>\n",
       "      <th>21</th>\n",
       "      <td>Hot Dogs</td>\n",
       "      <td>0.359499</td>\n",
       "    </tr>\n",
       "    <tr>\n",
       "      <th>7</th>\n",
       "      <td>Chicken Shop</td>\n",
       "      <td>0.356447</td>\n",
       "    </tr>\n",
       "    <tr>\n",
       "      <th>28</th>\n",
       "      <td>Vegan</td>\n",
       "      <td>0.354357</td>\n",
       "    </tr>\n",
       "    <tr>\n",
       "      <th>26</th>\n",
       "      <td>Street Vendors</td>\n",
       "      <td>0.297391</td>\n",
       "    </tr>\n",
       "    <tr>\n",
       "      <th>25</th>\n",
       "      <td>Specialty Food</td>\n",
       "      <td>0.283819</td>\n",
       "    </tr>\n",
       "    <tr>\n",
       "      <th>22</th>\n",
       "      <td>Latin American</td>\n",
       "      <td>0.276287</td>\n",
       "    </tr>\n",
       "    <tr>\n",
       "      <th>23</th>\n",
       "      <td>Mediterranean</td>\n",
       "      <td>0.213585</td>\n",
       "    </tr>\n",
       "    <tr>\n",
       "      <th>30</th>\n",
       "      <td>street</td>\n",
       "      <td>0.210566</td>\n",
       "    </tr>\n",
       "    <tr>\n",
       "      <th>29</th>\n",
       "      <td>lot</td>\n",
       "      <td>0.206663</td>\n",
       "    </tr>\n",
       "    <tr>\n",
       "      <th>15</th>\n",
       "      <td>Event Planning &amp; Services</td>\n",
       "      <td>0.203391</td>\n",
       "    </tr>\n",
       "    <tr>\n",
       "      <th>20</th>\n",
       "      <td>Gluten-Free</td>\n",
       "      <td>0.150550</td>\n",
       "    </tr>\n",
       "    <tr>\n",
       "      <th>13</th>\n",
       "      <td>Delis</td>\n",
       "      <td>0.150053</td>\n",
       "    </tr>\n",
       "    <tr>\n",
       "      <th>32</th>\n",
       "      <td>lunch</td>\n",
       "      <td>0.146109</td>\n",
       "    </tr>\n",
       "    <tr>\n",
       "      <th>5</th>\n",
       "      <td>Cafes</td>\n",
       "      <td>0.145732</td>\n",
       "    </tr>\n",
       "    <tr>\n",
       "      <th>10</th>\n",
       "      <td>Coffee &amp; Tea</td>\n",
       "      <td>0.142305</td>\n",
       "    </tr>\n",
       "    <tr>\n",
       "      <th>14</th>\n",
       "      <td>Donuts</td>\n",
       "      <td>0.142250</td>\n",
       "    </tr>\n",
       "    <tr>\n",
       "      <th>2</th>\n",
       "      <td>Bakeries</td>\n",
       "      <td>0.140845</td>\n",
       "    </tr>\n",
       "    <tr>\n",
       "      <th>0</th>\n",
       "      <td>RestaurantsPriceRange2</td>\n",
       "      <td>-0.000390</td>\n",
       "    </tr>\n",
       "    <tr>\n",
       "      <th>3</th>\n",
       "      <td>Breakfast &amp; Brunch</td>\n",
       "      <td>-0.007137</td>\n",
       "    </tr>\n",
       "    <tr>\n",
       "      <th>18</th>\n",
       "      <td>Food Delivery Services</td>\n",
       "      <td>-0.008052</td>\n",
       "    </tr>\n",
       "    <tr>\n",
       "      <th>31</th>\n",
       "      <td>latenight</td>\n",
       "      <td>-0.142831</td>\n",
       "    </tr>\n",
       "    <tr>\n",
       "      <th>6</th>\n",
       "      <td>Cafeteria</td>\n",
       "      <td>-0.150053</td>\n",
       "    </tr>\n",
       "    <tr>\n",
       "      <th>11</th>\n",
       "      <td>Comfort Food</td>\n",
       "      <td>-0.152500</td>\n",
       "    </tr>\n",
       "    <tr>\n",
       "      <th>9</th>\n",
       "      <td>Chinese</td>\n",
       "      <td>-0.352236</td>\n",
       "    </tr>\n",
       "    <tr>\n",
       "      <th>4</th>\n",
       "      <td>Burgers</td>\n",
       "      <td>-0.499760</td>\n",
       "    </tr>\n",
       "    <tr>\n",
       "      <th>8</th>\n",
       "      <td>Chicken Wings</td>\n",
       "      <td>-0.499788</td>\n",
       "    </tr>\n",
       "    <tr>\n",
       "      <th>1</th>\n",
       "      <td>Bagels</td>\n",
       "      <td>-0.499916</td>\n",
       "    </tr>\n",
       "    <tr>\n",
       "      <th>27</th>\n",
       "      <td>Tex-Mex</td>\n",
       "      <td>-0.500116</td>\n",
       "    </tr>\n",
       "    <tr>\n",
       "      <th>16</th>\n",
       "      <td>Fast Food</td>\n",
       "      <td>-0.507046</td>\n",
       "    </tr>\n",
       "  </tbody>\n",
       "</table>\n",
       "</div>"
      ],
      "text/plain": [
       "                         name     value\n",
       "24                       Poke  0.642320\n",
       "17               Fish & Chips  0.500114\n",
       "19                Food Trucks  0.493154\n",
       "12         Convenience Stores  0.439986\n",
       "21                   Hot Dogs  0.359499\n",
       "7                Chicken Shop  0.356447\n",
       "28                      Vegan  0.354357\n",
       "26             Street Vendors  0.297391\n",
       "25             Specialty Food  0.283819\n",
       "22             Latin American  0.276287\n",
       "23              Mediterranean  0.213585\n",
       "30                     street  0.210566\n",
       "29                        lot  0.206663\n",
       "15  Event Planning & Services  0.203391\n",
       "20                Gluten-Free  0.150550\n",
       "13                      Delis  0.150053\n",
       "32                      lunch  0.146109\n",
       "5                       Cafes  0.145732\n",
       "10               Coffee & Tea  0.142305\n",
       "14                     Donuts  0.142250\n",
       "2                    Bakeries  0.140845\n",
       "0      RestaurantsPriceRange2 -0.000390\n",
       "3          Breakfast & Brunch -0.007137\n",
       "18     Food Delivery Services -0.008052\n",
       "31                  latenight -0.142831\n",
       "6                   Cafeteria -0.150053\n",
       "11               Comfort Food -0.152500\n",
       "9                     Chinese -0.352236\n",
       "4                     Burgers -0.499760\n",
       "8               Chicken Wings -0.499788\n",
       "1                      Bagels -0.499916\n",
       "27                    Tex-Mex -0.500116\n",
       "16                  Fast Food -0.507046"
      ]
     },
     "execution_count": 138,
     "metadata": {},
     "output_type": "execute_result"
    }
   ],
   "source": [
    "## Look at coefficient values for 'most important features' determined by Gradient Boosted Linear Regression\n",
    "lad_coef_train_df = pd.DataFrame({\n",
    "    'name':gbr_names,\n",
    "    'value':list(lad_train.coef_)\n",
    "})\n",
    "lad_coef_train_df.sort_values(by=['value'],ascending=False,axis=0,inplace=False)"
   ]
  },
  {
   "cell_type": "code",
   "execution_count": 141,
   "metadata": {},
   "outputs": [
    {
     "name": "stdout",
     "output_type": "stream",
     "text": [
      "[LibLinear]"
     ]
    },
    {
     "data": {
      "text/html": [
       "<div>\n",
       "<style>\n",
       "    .dataframe thead tr:only-child th {\n",
       "        text-align: right;\n",
       "    }\n",
       "\n",
       "    .dataframe thead th {\n",
       "        text-align: left;\n",
       "    }\n",
       "\n",
       "    .dataframe tbody tr th {\n",
       "        vertical-align: top;\n",
       "    }\n",
       "</style>\n",
       "<table border=\"1\" class=\"dataframe\">\n",
       "  <thead>\n",
       "    <tr style=\"text-align: right;\">\n",
       "      <th></th>\n",
       "      <th>name</th>\n",
       "      <th>value</th>\n",
       "    </tr>\n",
       "  </thead>\n",
       "  <tbody>\n",
       "    <tr>\n",
       "      <th>24</th>\n",
       "      <td>Poke</td>\n",
       "      <td>0.620629</td>\n",
       "    </tr>\n",
       "    <tr>\n",
       "      <th>7</th>\n",
       "      <td>Chicken Shop</td>\n",
       "      <td>0.497165</td>\n",
       "    </tr>\n",
       "    <tr>\n",
       "      <th>22</th>\n",
       "      <td>Latin American</td>\n",
       "      <td>0.492633</td>\n",
       "    </tr>\n",
       "    <tr>\n",
       "      <th>19</th>\n",
       "      <td>Food Trucks</td>\n",
       "      <td>0.492115</td>\n",
       "    </tr>\n",
       "    <tr>\n",
       "      <th>26</th>\n",
       "      <td>Street Vendors</td>\n",
       "      <td>0.491367</td>\n",
       "    </tr>\n",
       "    <tr>\n",
       "      <th>12</th>\n",
       "      <td>Convenience Stores</td>\n",
       "      <td>0.364480</td>\n",
       "    </tr>\n",
       "    <tr>\n",
       "      <th>28</th>\n",
       "      <td>Vegan</td>\n",
       "      <td>0.342885</td>\n",
       "    </tr>\n",
       "    <tr>\n",
       "      <th>23</th>\n",
       "      <td>Mediterranean</td>\n",
       "      <td>0.254383</td>\n",
       "    </tr>\n",
       "    <tr>\n",
       "      <th>30</th>\n",
       "      <td>street</td>\n",
       "      <td>0.245755</td>\n",
       "    </tr>\n",
       "    <tr>\n",
       "      <th>17</th>\n",
       "      <td>Fish &amp; Chips</td>\n",
       "      <td>0.239875</td>\n",
       "    </tr>\n",
       "    <tr>\n",
       "      <th>29</th>\n",
       "      <td>lot</td>\n",
       "      <td>0.238017</td>\n",
       "    </tr>\n",
       "    <tr>\n",
       "      <th>15</th>\n",
       "      <td>Event Planning &amp; Services</td>\n",
       "      <td>0.169707</td>\n",
       "    </tr>\n",
       "    <tr>\n",
       "      <th>20</th>\n",
       "      <td>Gluten-Free</td>\n",
       "      <td>0.148509</td>\n",
       "    </tr>\n",
       "    <tr>\n",
       "      <th>32</th>\n",
       "      <td>lunch</td>\n",
       "      <td>0.131619</td>\n",
       "    </tr>\n",
       "    <tr>\n",
       "      <th>13</th>\n",
       "      <td>Delis</td>\n",
       "      <td>0.130544</td>\n",
       "    </tr>\n",
       "    <tr>\n",
       "      <th>10</th>\n",
       "      <td>Coffee &amp; Tea</td>\n",
       "      <td>0.129311</td>\n",
       "    </tr>\n",
       "    <tr>\n",
       "      <th>25</th>\n",
       "      <td>Specialty Food</td>\n",
       "      <td>0.122143</td>\n",
       "    </tr>\n",
       "    <tr>\n",
       "      <th>2</th>\n",
       "      <td>Bakeries</td>\n",
       "      <td>0.121642</td>\n",
       "    </tr>\n",
       "    <tr>\n",
       "      <th>5</th>\n",
       "      <td>Cafes</td>\n",
       "      <td>0.115190</td>\n",
       "    </tr>\n",
       "    <tr>\n",
       "      <th>3</th>\n",
       "      <td>Breakfast &amp; Brunch</td>\n",
       "      <td>0.003054</td>\n",
       "    </tr>\n",
       "    <tr>\n",
       "      <th>31</th>\n",
       "      <td>latenight</td>\n",
       "      <td>0.001374</td>\n",
       "    </tr>\n",
       "    <tr>\n",
       "      <th>21</th>\n",
       "      <td>Hot Dogs</td>\n",
       "      <td>-0.000376</td>\n",
       "    </tr>\n",
       "    <tr>\n",
       "      <th>0</th>\n",
       "      <td>RestaurantsPriceRange2</td>\n",
       "      <td>-0.001370</td>\n",
       "    </tr>\n",
       "    <tr>\n",
       "      <th>18</th>\n",
       "      <td>Food Delivery Services</td>\n",
       "      <td>-0.124671</td>\n",
       "    </tr>\n",
       "    <tr>\n",
       "      <th>14</th>\n",
       "      <td>Donuts</td>\n",
       "      <td>-0.142015</td>\n",
       "    </tr>\n",
       "    <tr>\n",
       "      <th>9</th>\n",
       "      <td>Chinese</td>\n",
       "      <td>-0.301547</td>\n",
       "    </tr>\n",
       "    <tr>\n",
       "      <th>11</th>\n",
       "      <td>Comfort Food</td>\n",
       "      <td>-0.364166</td>\n",
       "    </tr>\n",
       "    <tr>\n",
       "      <th>8</th>\n",
       "      <td>Chicken Wings</td>\n",
       "      <td>-0.370618</td>\n",
       "    </tr>\n",
       "    <tr>\n",
       "      <th>27</th>\n",
       "      <td>Tex-Mex</td>\n",
       "      <td>-0.370744</td>\n",
       "    </tr>\n",
       "    <tr>\n",
       "      <th>4</th>\n",
       "      <td>Burgers</td>\n",
       "      <td>-0.499200</td>\n",
       "    </tr>\n",
       "    <tr>\n",
       "      <th>16</th>\n",
       "      <td>Fast Food</td>\n",
       "      <td>-0.508620</td>\n",
       "    </tr>\n",
       "    <tr>\n",
       "      <th>1</th>\n",
       "      <td>Bagels</td>\n",
       "      <td>-0.512633</td>\n",
       "    </tr>\n",
       "    <tr>\n",
       "      <th>6</th>\n",
       "      <td>Cafeteria</td>\n",
       "      <td>-0.641718</td>\n",
       "    </tr>\n",
       "  </tbody>\n",
       "</table>\n",
       "</div>"
      ],
      "text/plain": [
       "                         name     value\n",
       "24                       Poke  0.620629\n",
       "7                Chicken Shop  0.497165\n",
       "22             Latin American  0.492633\n",
       "19                Food Trucks  0.492115\n",
       "26             Street Vendors  0.491367\n",
       "12         Convenience Stores  0.364480\n",
       "28                      Vegan  0.342885\n",
       "23              Mediterranean  0.254383\n",
       "30                     street  0.245755\n",
       "17               Fish & Chips  0.239875\n",
       "29                        lot  0.238017\n",
       "15  Event Planning & Services  0.169707\n",
       "20                Gluten-Free  0.148509\n",
       "32                      lunch  0.131619\n",
       "13                      Delis  0.130544\n",
       "10               Coffee & Tea  0.129311\n",
       "25             Specialty Food  0.122143\n",
       "2                    Bakeries  0.121642\n",
       "5                       Cafes  0.115190\n",
       "3          Breakfast & Brunch  0.003054\n",
       "31                  latenight  0.001374\n",
       "21                   Hot Dogs -0.000376\n",
       "0      RestaurantsPriceRange2 -0.001370\n",
       "18     Food Delivery Services -0.124671\n",
       "14                     Donuts -0.142015\n",
       "9                     Chinese -0.301547\n",
       "11               Comfort Food -0.364166\n",
       "8               Chicken Wings -0.370618\n",
       "27                    Tex-Mex -0.370744\n",
       "4                     Burgers -0.499200\n",
       "16                  Fast Food -0.508620\n",
       "1                      Bagels -0.512633\n",
       "6                   Cafeteria -0.641718"
      ]
     },
     "execution_count": 141,
     "metadata": {},
     "output_type": "execute_result"
    }
   ],
   "source": [
    "## Compare our train/test data, we would hope to get similar findings!\n",
    "lad_test = LAD(verbose=1)\n",
    "lad_test.fit(gbr_X_test,gbr_y_test)\n",
    "lad_coef_test_df = pd.DataFrame({\n",
    "    'name':gbr_names,\n",
    "    'value':list(lad_test.coef_)\n",
    "})\n",
    "lad_coef_test_df.sort_values(by=['value'],ascending=False,axis=0,inplace=False)"
   ]
  },
  {
   "cell_type": "code",
   "execution_count": null,
   "metadata": {
    "collapsed": true
   },
   "outputs": [],
   "source": [
    "'''\n",
    "Our analysis returned some interesting findings.  For example, it looks like 'Poke' restaurants have a strong relationship to higher stars.  It also looks like Food Trucks\n",
    "have been able to experience considerably favorable ratings from users.  As the correlation plot showed, Fast Food restaurants are more likely to receive lower ratings, and it also\n",
    "looks like Tex-Mex places suffer a similar fate.  Once standard error of these coefficients are calculated, we will be able make claims about our data with greater certainty.\n",
    "'''"
   ]
  },
  {
   "cell_type": "code",
   "execution_count": null,
   "metadata": {
    "collapsed": true
   },
   "outputs": [],
   "source": [
    "'''\n",
    "Next steps: Figure out a way to calculate feature standard errors to determine feature validity (does not come standard with scikit learn libraries).  Add some visualizations and \n",
    "some crosstables (pd.crosstab). Then, look at interaction terms between top/all features when predicting stars\n",
    "\n",
    "Additional Projects w/this dataset:  Use the corpus of user reviews to determine relationship between sentiment/rating.  Could also build recommendation engine from this.\n",
    "Use text to predict age/gender.  What words/phrases are best at predicting gender/age? (Could use glmnet here)\n",
    "'''"
   ]
  }
 ],
 "metadata": {
  "kernelspec": {
   "display_name": "Python 3",
   "language": "python",
   "name": "python3"
  },
  "language_info": {
   "codemirror_mode": {
    "name": "ipython",
    "version": 3
   },
   "file_extension": ".py",
   "mimetype": "text/x-python",
   "name": "python",
   "nbconvert_exporter": "python",
   "pygments_lexer": "ipython3",
   "version": "3.6.3"
  }
 },
 "nbformat": 4,
 "nbformat_minor": 2
}
